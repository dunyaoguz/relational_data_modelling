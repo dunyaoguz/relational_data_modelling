{
 "cells": [
  {
   "cell_type": "markdown",
   "metadata": {},
   "source": [
    "# ETL Processes\n",
    "Use this notebook to develop the ETL process for each of your tables before completing the `etl.py` file to load the whole datasets."
   ]
  },
  {
   "cell_type": "code",
   "execution_count": 1,
   "metadata": {},
   "outputs": [],
   "source": [
    "import os\n",
    "import glob\n",
    "import json\n",
    "import psycopg2\n",
    "import pandas as pd\n",
    "import ast\n",
    "from sql_queries import *"
   ]
  },
  {
   "cell_type": "code",
   "execution_count": 2,
   "metadata": {},
   "outputs": [],
   "source": [
    "conn = psycopg2.connect(\"host=127.0.0.1 dbname=sparkifydb user=dunya\")\n",
    "cur = conn.cursor()\n",
    "conn.set_session(autocommit=True)"
   ]
  },
  {
   "cell_type": "code",
   "execution_count": 3,
   "metadata": {},
   "outputs": [],
   "source": [
    "def get_files(filepath):\n",
    "    all_files = []\n",
    "    for root, dirs, files in os.walk(filepath):\n",
    "        files = glob.glob(os.path.join(root,'*.json'))\n",
    "        for f in files :\n",
    "            all_files.append(os.path.abspath(f))\n",
    "    \n",
    "    return all_files"
   ]
  },
  {
   "cell_type": "markdown",
   "metadata": {},
   "source": [
    "# Process `song_data`\n",
    "In this first part, you'll perform ETL on the first dataset, `song_data`, to create the `songs` and `artists` dimensional tables.\n",
    "\n",
    "Let's perform ETL on a single song file and load a single record into each table to start.\n",
    "- Use the `get_files` function provided above to get a list of all song JSON files in `data/song_data`\n",
    "- Select the first song in this list\n",
    "- Read the song file and view the data"
   ]
  },
  {
   "cell_type": "code",
   "execution_count": 4,
   "metadata": {},
   "outputs": [],
   "source": [
    "song_files = get_files('data/song_data')"
   ]
  },
  {
   "cell_type": "code",
   "execution_count": 5,
   "metadata": {},
   "outputs": [
    {
     "name": "stdout",
     "output_type": "stream",
     "text": [
      "{'num_songs': 1, 'artist_id': 'AR7G5I41187FB4CE6C', 'artist_latitude': None, 'artist_longitude': None, 'artist_location': 'London, England', 'artist_name': 'Adam Ant', 'song_id': 'SONHOTT12A8C13493C', 'title': 'Something Girls', 'duration': 233.40363, 'year': 1982}\n"
     ]
    }
   ],
   "source": [
    "with open(song_files[0]) as file:\n",
    "    song_dict = json.load(file)\n",
    "    print(song_dict)"
   ]
  },
  {
   "cell_type": "markdown",
   "metadata": {},
   "source": [
    "## #1: `songs` Table\n",
    "#### Extract Data for Songs Table\n",
    "- Select columns for song ID, title, artist ID, year, and duration\n",
    "- Use `df.values` to select just the values from the dataframe\n",
    "- Index to select the first (only) record in the dataframe\n",
    "- Convert the array to a list and set it to `song_data`"
   ]
  },
  {
   "cell_type": "code",
   "execution_count": 6,
   "metadata": {},
   "outputs": [
    {
     "data": {
      "text/plain": [
       "{'artist_id': 'AR7G5I41187FB4CE6C',\n",
       " 'song_id': 'SONHOTT12A8C13493C',\n",
       " 'title': 'Something Girls',\n",
       " 'duration': 233.40363,\n",
       " 'year': 1982}"
      ]
     },
     "execution_count": 6,
     "metadata": {},
     "output_type": "execute_result"
    }
   ],
   "source": [
    "filtered_song_dict = {k:v for (k,v) in song_dict.items() if k in ['song_id', 'title', 'artist_id', 'year', 'duration']}\n",
    "filtered_song_dict"
   ]
  },
  {
   "cell_type": "code",
   "execution_count": 7,
   "metadata": {},
   "outputs": [
    {
     "data": {
      "text/plain": [
       "['AR7G5I41187FB4CE6C',\n",
       " 'SONHOTT12A8C13493C',\n",
       " 'Something Girls',\n",
       " 233.40363,\n",
       " 1982]"
      ]
     },
     "execution_count": 7,
     "metadata": {},
     "output_type": "execute_result"
    }
   ],
   "source": [
    "song_data = list(filtered_song_dict.values())\n",
    "song_data"
   ]
  },
  {
   "cell_type": "markdown",
   "metadata": {},
   "source": [
    "#### Insert Record into Song Table\n",
    "Implement the `song_table_insert` query in `sql_queries.py` and run the cell below to insert a record for this song into the `songs` table. Remember to run `create_tables.py` before running the cell below to ensure you've created/resetted the `songs` table in the sparkify database."
   ]
  },
  {
   "cell_type": "code",
   "execution_count": 8,
   "metadata": {},
   "outputs": [],
   "source": [
    "cur.execute(song_table_insert, song_data)"
   ]
  },
  {
   "cell_type": "markdown",
   "metadata": {},
   "source": [
    "Run `test.ipynb` to see if you've successfully added a record to this table."
   ]
  },
  {
   "cell_type": "markdown",
   "metadata": {},
   "source": [
    "## #2: `artists` Table\n",
    "#### Extract Data for Artists Table\n",
    "- Select columns for artist ID, name, location, latitude, and longitude\n",
    "- Use `df.values` to select just the values from the dataframe\n",
    "- Index to select the first (only) record in the dataframe\n",
    "- Convert the array to a list and set it to `artist_data`"
   ]
  },
  {
   "cell_type": "code",
   "execution_count": 9,
   "metadata": {},
   "outputs": [
    {
     "data": {
      "text/plain": [
       "{'artist_id': 'AR7G5I41187FB4CE6C',\n",
       " 'artist_latitude': None,\n",
       " 'artist_longitude': None,\n",
       " 'artist_location': 'London, England',\n",
       " 'artist_name': 'Adam Ant'}"
      ]
     },
     "execution_count": 9,
     "metadata": {},
     "output_type": "execute_result"
    }
   ],
   "source": [
    "filtered_artist_dict = {k:v for (k,v) in song_dict.items() if k in ['artist_id', 'artist_name', 'artist_location', 'artist_latitude', 'artist_longitude']}\n",
    "filtered_artist_dict"
   ]
  },
  {
   "cell_type": "code",
   "execution_count": 10,
   "metadata": {},
   "outputs": [
    {
     "data": {
      "text/plain": [
       "['AR7G5I41187FB4CE6C', None, None, 'London, England', 'Adam Ant']"
      ]
     },
     "execution_count": 10,
     "metadata": {},
     "output_type": "execute_result"
    }
   ],
   "source": [
    "artist_data = list(filtered_artist_dict.values())\n",
    "artist_data"
   ]
  },
  {
   "cell_type": "markdown",
   "metadata": {},
   "source": [
    "#### Insert Record into Artist Table\n",
    "Implement the `artist_table_insert` query in `sql_queries.py` and run the cell below to insert a record for this song's artist into the `artists` table. Remember to run `create_tables.py` before running the cell below to ensure you've created/resetted the `artists` table in the sparkify database."
   ]
  },
  {
   "cell_type": "code",
   "execution_count": 11,
   "metadata": {},
   "outputs": [],
   "source": [
    "cur.execute(artist_table_insert, artist_data)"
   ]
  },
  {
   "cell_type": "markdown",
   "metadata": {},
   "source": [
    "Run `test.ipynb` to see if you've successfully added a record to this table."
   ]
  },
  {
   "cell_type": "markdown",
   "metadata": {},
   "source": [
    "# Process `log_data`\n",
    "In this part, you'll perform ETL on the second dataset, `log_data`, to create the `time` and `users` dimensional tables, as well as the `songplays` fact table.\n",
    "\n",
    "Let's perform ETL on a single log file and load a single record into each table.\n",
    "- Use the `get_files` function provided above to get a list of all log JSON files in `data/log_data`\n",
    "- Select the first log file in this list\n",
    "- Read the log file and view the data"
   ]
  },
  {
   "cell_type": "code",
   "execution_count": 12,
   "metadata": {},
   "outputs": [],
   "source": [
    "log_files = get_files('data/log_data')"
   ]
  },
  {
   "cell_type": "code",
   "execution_count": 13,
   "metadata": {},
   "outputs": [
    {
     "name": "stdout",
     "output_type": "stream",
     "text": [
      "{\"artist\":\"Frumpies\",\"auth\":\"Logged In\",\"firstName\":\"Anabelle\",\"gender\":\"F\",\"itemInSession\":0,\"lastName\":\"Simpson\",\"length\":134.47791,\"level\":\"free\",\"location\":\"Philadelphia-Camden-Wilmington, PA-NJ-DE-MD\",\"method\":\"PUT\",\"page\":\"NextSong\",\"registration\":1541044398796.0,\"sessionId\":455,\"song\":\"Fuck Kitty\",\"status\":200,\"ts\":1541903636796,\"userAgent\":\"\\\"Mozilla\\/5.0 (Macintosh; Intel Mac OS X 10_9_4) AppleWebKit\\/537.36 (KHTML, like Gecko) Chrome\\/36.0.1985.125 Safari\\/537.36\\\"\",\"userId\":\"69\"}\n",
      "{\"artist\":\"Kenny G with Peabo Bryson\",\"auth\":\"Logged In\",\"firstName\":\"Anabelle\",\"gender\":\"F\",\"itemInSession\":1,\"lastName\":\"Simpson\",\"length\":264.75057,\"level\":\"free\",\"location\":\"Philadelphia-Camden-Wilmington, PA-NJ-DE-MD\",\"method\":\"PUT\",\"page\":\"NextSong\",\"registration\":1541044398796.0,\"sessionId\":455,\"song\":\"By The Time This Night Is Over\",\"status\":200,\"ts\":1541903770796,\"userAgent\":\"\\\"Mozilla\\/5.0 (Macintosh; Intel Mac OS X 10_9_4) AppleWebKit\\/537.36 (KHTML, like Gecko) Chrome\\/36.0.1985.125 Safari\\/537.36\\\"\",\"userId\":\"69\"}\n",
      "{\"artist\":\"Biffy Clyro\",\"auth\":\"Logged In\",\"firstName\":\"Anabelle\",\"gender\":\"F\",\"itemInSession\":2,\"lastName\":\"Simpson\",\"length\":189.83138,\"level\":\"free\",\"location\":\"Philadelphia-Camden-Wilmington, PA-NJ-DE-MD\",\"method\":\"PUT\",\"page\":\"NextSong\",\"registration\":1541044398796.0,\"sessionId\":455,\"song\":\"God & Satan\",\"status\":200,\"ts\":1541904034796,\"userAgent\":\"\\\"Mozilla\\/5.0 (Macintosh; Intel Mac OS X 10_9_4) AppleWebKit\\/537.36 (KHTML, like Gecko) Chrome\\/36.0.1985.125 Safari\\/537.36\\\"\",\"userId\":\"69\"}\n",
      "{\"artist\":null,\"auth\":\"Logged In\",\"firstName\":\"Lily\",\"gender\":\"F\",\"itemInSession\":0,\"lastName\":\"Burns\",\"length\":null,\"level\":\"free\",\"location\":\"New York-Newark-Jersey City, NY-NJ-PA\",\"method\":\"GET\",\"page\":\"Home\",\"registration\":1540621059796.0,\"sessionId\":456,\"song\":null,\"status\":200,\"ts\":1541910841796,\"userAgent\":\"\\\"Mozilla\\/5.0 (Windows NT 6.1; WOW64) AppleWebKit\\/537.36 (KHTML, like Gecko) Chrome\\/36.0.1985.125 Safari\\/537.36\\\"\",\"userId\":\"32\"}\n",
      "{\"artist\":\"HIM\",\"auth\":\"Logged In\",\"firstName\":\"Lily\",\"gender\":\"F\",\"itemInSession\":1,\"lastName\":\"Burns\",\"length\":212.06159,\"level\":\"free\",\"location\":\"New York-Newark-Jersey City, NY-NJ-PA\",\"method\":\"PUT\",\"page\":\"NextSong\",\"registration\":1540621059796.0,\"sessionId\":456,\"song\":\"Beautiful\",\"status\":200,\"ts\":1541910973796,\"userAgent\":\"\\\"Mozilla\\/5.0 (Windows NT 6.1; WOW64) AppleWebKit\\/537.36 (KHTML, like Gecko) Chrome\\/36.0.1985.125 Safari\\/537.36\\\"\",\"userId\":\"32\"}\n",
      "{\"artist\":\"Matmos\",\"auth\":\"Logged In\",\"firstName\":\"Joseph\",\"gender\":\"M\",\"itemInSession\":0,\"lastName\":\"Gutierrez\",\"length\":1449.11628,\"level\":\"free\",\"location\":\"Columbia, SC\",\"method\":\"PUT\",\"page\":\"NextSong\",\"registration\":1540809335796.0,\"sessionId\":284,\"song\":\"Supreme Balloon\",\"status\":200,\"ts\":1541911006796,\"userAgent\":\"\\\"Mozilla\\/5.0 (Macintosh; Intel Mac OS X 10_9_3) AppleWebKit\\/537.75.14 (KHTML, like Gecko) Version\\/7.0.3 Safari\\/537.75.14\\\"\",\"userId\":\"75\"}\n",
      "{\"artist\":\"Gary Allan\",\"auth\":\"Logged In\",\"firstName\":\"Ryann\",\"gender\":\"F\",\"itemInSession\":0,\"lastName\":\"Smith\",\"length\":259.83955,\"level\":\"free\",\"location\":\"Palestine, TX\",\"method\":\"PUT\",\"page\":\"NextSong\",\"registration\":1540685147796.0,\"sessionId\":328,\"song\":\"The One\",\"status\":200,\"ts\":1541930188796,\"userAgent\":\"Mozilla\\/5.0 (Macintosh; Intel Mac OS X 10.9; rv:31.0) Gecko\\/20100101 Firefox\\/31.0\",\"userId\":\"92\"}\n",
      "{\"artist\":\"Miracle Fortress\",\"auth\":\"Logged In\",\"firstName\":\"Ryann\",\"gender\":\"F\",\"itemInSession\":1,\"lastName\":\"Smith\",\"length\":200.9073,\"level\":\"free\",\"location\":\"Palestine, TX\",\"method\":\"PUT\",\"page\":\"NextSong\",\"registration\":1540685147796.0,\"sessionId\":328,\"song\":\"Five Roses\",\"status\":200,\"ts\":1541930447796,\"userAgent\":\"Mozilla\\/5.0 (Macintosh; Intel Mac OS X 10.9; rv:31.0) Gecko\\/20100101 Firefox\\/31.0\",\"userId\":\"92\"}\n",
      "{\"artist\":\"Don Omar\",\"auth\":\"Logged In\",\"firstName\":\"Ryann\",\"gender\":\"F\",\"itemInSession\":2,\"lastName\":\"Smith\",\"length\":261.35465,\"level\":\"free\",\"location\":\"Palestine, TX\",\"method\":\"PUT\",\"page\":\"NextSong\",\"registration\":1540685147796.0,\"sessionId\":328,\"song\":\"Cuentale\",\"status\":200,\"ts\":1541930647796,\"userAgent\":\"Mozilla\\/5.0 (Macintosh; Intel Mac OS X 10.9; rv:31.0) Gecko\\/20100101 Firefox\\/31.0\",\"userId\":\"92\"}\n",
      "{\"artist\":\"Jay-Z\",\"auth\":\"Logged In\",\"firstName\":\"Ryann\",\"gender\":\"F\",\"itemInSession\":3,\"lastName\":\"Smith\",\"length\":212.27057,\"level\":\"free\",\"location\":\"Palestine, TX\",\"method\":\"PUT\",\"page\":\"NextSong\",\"registration\":1540685147796.0,\"sessionId\":328,\"song\":\"D'Evils\",\"status\":200,\"ts\":1541930908796,\"userAgent\":\"Mozilla\\/5.0 (Macintosh; Intel Mac OS X 10.9; rv:31.0) Gecko\\/20100101 Firefox\\/31.0\",\"userId\":\"92\"}\n",
      "{\"artist\":\"Red Hot Chili Peppers\",\"auth\":\"Logged In\",\"firstName\":\"Ryann\",\"gender\":\"F\",\"itemInSession\":4,\"lastName\":\"Smith\",\"length\":231.33995,\"level\":\"free\",\"location\":\"Palestine, TX\",\"method\":\"PUT\",\"page\":\"NextSong\",\"registration\":1540685147796.0,\"sessionId\":328,\"song\":\"Easily (Album Version)\",\"status\":200,\"ts\":1541931120796,\"userAgent\":\"Mozilla\\/5.0 (Macintosh; Intel Mac OS X 10.9; rv:31.0) Gecko\\/20100101 Firefox\\/31.0\",\"userId\":\"92\"}\n",
      "{\"artist\":null,\"auth\":\"Logged In\",\"firstName\":\"Chloe\",\"gender\":\"F\",\"itemInSession\":0,\"lastName\":\"Cuevas\",\"length\":null,\"level\":\"free\",\"location\":\"San Francisco-Oakland-Hayward, CA\",\"method\":\"GET\",\"page\":\"Home\",\"registration\":1540940782796.0,\"sessionId\":437,\"song\":null,\"status\":200,\"ts\":1541932052796,\"userAgent\":\"Mozilla\\/5.0 (Windows NT 5.1; rv:31.0) Gecko\\/20100101 Firefox\\/31.0\",\"userId\":\"49\"}\n",
      "{\"artist\":\"Flogging Molly\",\"auth\":\"Logged In\",\"firstName\":\"Chloe\",\"gender\":\"F\",\"itemInSession\":1,\"lastName\":\"Cuevas\",\"length\":361.9522,\"level\":\"free\",\"location\":\"San Francisco-Oakland-Hayward, CA\",\"method\":\"PUT\",\"page\":\"NextSong\",\"registration\":1540940782796.0,\"sessionId\":437,\"song\":\"Rebels of the Sacred Heart\",\"status\":200,\"ts\":1541932063796,\"userAgent\":\"Mozilla\\/5.0 (Windows NT 5.1; rv:31.0) Gecko\\/20100101 Firefox\\/31.0\",\"userId\":\"49\"}\n",
      "{\"artist\":\"Reverend Horton Heat\",\"auth\":\"Logged In\",\"firstName\":\"Chloe\",\"gender\":\"F\",\"itemInSession\":2,\"lastName\":\"Cuevas\",\"length\":158.64118,\"level\":\"free\",\"location\":\"San Francisco-Oakland-Hayward, CA\",\"method\":\"PUT\",\"page\":\"NextSong\",\"registration\":1540940782796.0,\"sessionId\":437,\"song\":\"Now_ Right Now\",\"status\":200,\"ts\":1541932424796,\"userAgent\":\"Mozilla\\/5.0 (Windows NT 5.1; rv:31.0) Gecko\\/20100101 Firefox\\/31.0\",\"userId\":\"49\"}\n",
      "{\"artist\":\"Sea Wolf\",\"auth\":\"Logged In\",\"firstName\":\"Chloe\",\"gender\":\"F\",\"itemInSession\":3,\"lastName\":\"Cuevas\",\"length\":232.61995,\"level\":\"free\",\"location\":\"San Francisco-Oakland-Hayward, CA\",\"method\":\"PUT\",\"page\":\"NextSong\",\"registration\":1540940782796.0,\"sessionId\":437,\"song\":\"I Made A Resolution\",\"status\":200,\"ts\":1541932582796,\"userAgent\":\"Mozilla\\/5.0 (Windows NT 5.1; rv:31.0) Gecko\\/20100101 Firefox\\/31.0\",\"userId\":\"49\"}\n",
      "{\"artist\":\"Jason Mraz & Colbie Caillat\",\"auth\":\"Logged In\",\"firstName\":\"Chloe\",\"gender\":\"F\",\"itemInSession\":4,\"lastName\":\"Cuevas\",\"length\":189.6224,\"level\":\"free\",\"location\":\"San Francisco-Oakland-Hayward, CA\",\"method\":\"PUT\",\"page\":\"NextSong\",\"registration\":1540940782796.0,\"sessionId\":437,\"song\":\"Lucky (Album Version)\",\"status\":200,\"ts\":1541932814796,\"userAgent\":\"Mozilla\\/5.0 (Windows NT 5.1; rv:31.0) Gecko\\/20100101 Firefox\\/31.0\",\"userId\":\"49\"}\n",
      "{\"artist\":\"Jamie Lidell\",\"auth\":\"Logged In\",\"firstName\":\"Chloe\",\"gender\":\"F\",\"itemInSession\":5,\"lastName\":\"Cuevas\",\"length\":175.25506,\"level\":\"free\",\"location\":\"San Francisco-Oakland-Hayward, CA\",\"method\":\"PUT\",\"page\":\"NextSong\",\"registration\":1540940782796.0,\"sessionId\":437,\"song\":\"Enough\\u0019s Enough\",\"status\":200,\"ts\":1541933003796,\"userAgent\":\"Mozilla\\/5.0 (Windows NT 5.1; rv:31.0) Gecko\\/20100101 Firefox\\/31.0\",\"userId\":\"49\"}\n",
      "{\"artist\":\"Feist\",\"auth\":\"Logged In\",\"firstName\":\"Chloe\",\"gender\":\"F\",\"itemInSession\":6,\"lastName\":\"Cuevas\",\"length\":212.79302,\"level\":\"free\",\"location\":\"San Francisco-Oakland-Hayward, CA\",\"method\":\"PUT\",\"page\":\"NextSong\",\"registration\":1540940782796.0,\"sessionId\":437,\"song\":\"Mushaboom (Postal Service Mix)\",\"status\":200,\"ts\":1541933178796,\"userAgent\":\"Mozilla\\/5.0 (Windows NT 5.1; rv:31.0) Gecko\\/20100101 Firefox\\/31.0\",\"userId\":\"49\"}\n",
      "{\"artist\":null,\"auth\":\"Logged In\",\"firstName\":\"Chloe\",\"gender\":\"F\",\"itemInSession\":7,\"lastName\":\"Cuevas\",\"length\":null,\"level\":\"free\",\"location\":\"San Francisco-Oakland-Hayward, CA\",\"method\":\"PUT\",\"page\":\"Logout\",\"registration\":1540940782796.0,\"sessionId\":437,\"song\":null,\"status\":307,\"ts\":1541933179796,\"userAgent\":\"Mozilla\\/5.0 (Windows NT 5.1; rv:31.0) Gecko\\/20100101 Firefox\\/31.0\",\"userId\":\"49\"}\n",
      "{\"artist\":null,\"auth\":\"Logged Out\",\"firstName\":null,\"gender\":null,\"itemInSession\":8,\"lastName\":null,\"length\":null,\"level\":\"free\",\"location\":null,\"method\":\"GET\",\"page\":\"Home\",\"registration\":null,\"sessionId\":437,\"song\":null,\"status\":200,\"ts\":1541933298796,\"userAgent\":null,\"userId\":\"\"}\n",
      "{\"artist\":null,\"auth\":\"Logged Out\",\"firstName\":null,\"gender\":null,\"itemInSession\":9,\"lastName\":null,\"length\":null,\"level\":\"free\",\"location\":null,\"method\":\"GET\",\"page\":\"Home\",\"registration\":null,\"sessionId\":437,\"song\":null,\"status\":200,\"ts\":1541934031796,\"userAgent\":null,\"userId\":\"\"}\n",
      "{\"artist\":null,\"auth\":\"Logged Out\",\"firstName\":null,\"gender\":null,\"itemInSession\":10,\"lastName\":null,\"length\":null,\"level\":\"free\",\"location\":null,\"method\":\"PUT\",\"page\":\"Login\",\"registration\":null,\"sessionId\":437,\"song\":null,\"status\":307,\"ts\":1541934032796,\"userAgent\":null,\"userId\":\"\"}\n",
      "{\"artist\":null,\"auth\":\"Logged In\",\"firstName\":\"Chloe\",\"gender\":\"F\",\"itemInSession\":11,\"lastName\":\"Cuevas\",\"length\":null,\"level\":\"free\",\"location\":\"San Francisco-Oakland-Hayward, CA\",\"method\":\"GET\",\"page\":\"Home\",\"registration\":1540940782796.0,\"sessionId\":437,\"song\":null,\"status\":200,\"ts\":1541934168796,\"userAgent\":\"Mozilla\\/5.0 (Windows NT 5.1; rv:31.0) Gecko\\/20100101 Firefox\\/31.0\",\"userId\":\"49\"}\n",
      "{\"artist\":\"Sex Slaves\",\"auth\":\"Logged In\",\"firstName\":\"Chloe\",\"gender\":\"F\",\"itemInSession\":12,\"lastName\":\"Cuevas\",\"length\":175.51628,\"level\":\"free\",\"location\":\"San Francisco-Oakland-Hayward, CA\",\"method\":\"PUT\",\"page\":\"NextSong\",\"registration\":1540940782796.0,\"sessionId\":437,\"song\":\"We're Going Out Tonight\",\"status\":200,\"ts\":1541934891796,\"userAgent\":\"Mozilla\\/5.0 (Windows NT 5.1; rv:31.0) Gecko\\/20100101 Firefox\\/31.0\",\"userId\":\"49\"}\n",
      "{\"artist\":null,\"auth\":\"Logged In\",\"firstName\":\"Chloe\",\"gender\":\"F\",\"itemInSession\":0,\"lastName\":\"Cuevas\",\"length\":null,\"level\":\"free\",\"location\":\"San Francisco-Oakland-Hayward, CA\",\"method\":\"GET\",\"page\":\"Home\",\"registration\":1540940782796.0,\"sessionId\":469,\"song\":null,\"status\":200,\"ts\":1541943439796,\"userAgent\":\"Mozilla\\/5.0 (Windows NT 5.1; rv:31.0) Gecko\\/20100101 Firefox\\/31.0\",\"userId\":\"49\"}\n",
      "{\"artist\":\"Rise Against\",\"auth\":\"Logged In\",\"firstName\":\"Chloe\",\"gender\":\"F\",\"itemInSession\":1,\"lastName\":\"Cuevas\",\"length\":169.482,\"level\":\"free\",\"location\":\"San Francisco-Oakland-Hayward, CA\",\"method\":\"PUT\",\"page\":\"NextSong\",\"registration\":1540940782796.0,\"sessionId\":469,\"song\":\"To Them These Streets Belong\",\"status\":200,\"ts\":1541943682796,\"userAgent\":\"Mozilla\\/5.0 (Windows NT 5.1; rv:31.0) Gecko\\/20100101 Firefox\\/31.0\",\"userId\":\"49\"}\n",
      "{\"artist\":null,\"auth\":\"Logged In\",\"firstName\":\"Mohammad\",\"gender\":\"M\",\"itemInSession\":0,\"lastName\":\"Rodriguez\",\"length\":null,\"level\":\"free\",\"location\":\"Sacramento--Roseville--Arden-Arcade, CA\",\"method\":\"GET\",\"page\":\"Home\",\"registration\":1540511766796.0,\"sessionId\":441,\"song\":null,\"status\":200,\"ts\":1541944080796,\"userAgent\":\"\\\"Mozilla\\/5.0 (Macintosh; Intel Mac OS X 10_9_4) AppleWebKit\\/537.36 (KHTML, like Gecko) Chrome\\/36.0.1985.143 Safari\\/537.36\\\"\",\"userId\":\"88\"}\n",
      "{\"artist\":\"Beyonc\\u00c3\\u0083\\u00c2\\u00a9\",\"auth\":\"Logged In\",\"firstName\":\"Mohammad\",\"gender\":\"M\",\"itemInSession\":1,\"lastName\":\"Rodriguez\",\"length\":359.54893,\"level\":\"free\",\"location\":\"Sacramento--Roseville--Arden-Arcade, CA\",\"method\":\"PUT\",\"page\":\"NextSong\",\"registration\":1540511766796.0,\"sessionId\":441,\"song\":\"Get Me Bodied\",\"status\":200,\"ts\":1541944343796,\"userAgent\":\"\\\"Mozilla\\/5.0 (Macintosh; Intel Mac OS X 10_9_4) AppleWebKit\\/537.36 (KHTML, like Gecko) Chrome\\/36.0.1985.143 Safari\\/537.36\\\"\",\"userId\":\"88\"}\n",
      "{\"artist\":\"Nate Dogg\",\"auth\":\"Logged In\",\"firstName\":\"Mohammad\",\"gender\":\"M\",\"itemInSession\":2,\"lastName\":\"Rodriguez\",\"length\":356.38812,\"level\":\"free\",\"location\":\"Sacramento--Roseville--Arden-Arcade, CA\",\"method\":\"PUT\",\"page\":\"NextSong\",\"registration\":1540511766796.0,\"sessionId\":441,\"song\":\"Never Leave Me Alone\",\"status\":200,\"ts\":1541944702796,\"userAgent\":\"\\\"Mozilla\\/5.0 (Macintosh; Intel Mac OS X 10_9_4) AppleWebKit\\/537.36 (KHTML, like Gecko) Chrome\\/36.0.1985.143 Safari\\/537.36\\\"\",\"userId\":\"88\"}\n",
      "{\"artist\":null,\"auth\":\"Logged In\",\"firstName\":\"Cierra\",\"gender\":\"F\",\"itemInSession\":0,\"lastName\":\"Finley\",\"length\":null,\"level\":\"free\",\"location\":\"Richmond, VA\",\"method\":\"GET\",\"page\":\"Home\",\"registration\":1541013292796.0,\"sessionId\":443,\"song\":null,\"status\":200,\"ts\":1541945130796,\"userAgent\":\"\\\"Mozilla\\/5.0 (Macintosh; Intel Mac OS X 10_9_4) AppleWebKit\\/537.77.4 (KHTML, like Gecko) Version\\/7.0.5 Safari\\/537.77.4\\\"\",\"userId\":\"96\"}\n",
      "{\"artist\":\"Taylor Swift\",\"auth\":\"Logged In\",\"firstName\":\"Cierra\",\"gender\":\"F\",\"itemInSession\":1,\"lastName\":\"Finley\",\"length\":233.89995,\"level\":\"free\",\"location\":\"Richmond, VA\",\"method\":\"PUT\",\"page\":\"NextSong\",\"registration\":1541013292796.0,\"sessionId\":443,\"song\":\"Love Story\",\"status\":200,\"ts\":1541945143796,\"userAgent\":\"\\\"Mozilla\\/5.0 (Macintosh; Intel Mac OS X 10_9_4) AppleWebKit\\/537.77.4 (KHTML, like Gecko) Version\\/7.0.5 Safari\\/537.77.4\\\"\",\"userId\":\"96\"}\n",
      "{\"artist\":\"Lynyrd Skynyrd\",\"auth\":\"Logged In\",\"firstName\":\"Ryan\",\"gender\":\"M\",\"itemInSession\":0,\"lastName\":\"Smith\",\"length\":216.60689,\"level\":\"free\",\"location\":\"San Jose-Sunnyvale-Santa Clara, CA\",\"method\":\"PUT\",\"page\":\"NextSong\",\"registration\":1541016707796.0,\"sessionId\":452,\"song\":\"Sweet home Alabama\",\"status\":200,\"ts\":1541945274796,\"userAgent\":\"\\\"Mozilla\\/5.0 (X11; Linux x86_64) AppleWebKit\\/537.36 (KHTML, like Gecko) Ubuntu Chromium\\/36.0.1985.125 Chrome\\/36.0.1985.125 Safari\\/537.36\\\"\",\"userId\":\"26\"}\n",
      "{\"artist\":\"Kelis\",\"auth\":\"Logged In\",\"firstName\":\"Cierra\",\"gender\":\"F\",\"itemInSession\":2,\"lastName\":\"Finley\",\"length\":293.58975,\"level\":\"free\",\"location\":\"Richmond, VA\",\"method\":\"PUT\",\"page\":\"NextSong\",\"registration\":1541013292796.0,\"sessionId\":443,\"song\":\"Caught Out There (Explicit)\",\"status\":200,\"ts\":1541945376796,\"userAgent\":\"\\\"Mozilla\\/5.0 (Macintosh; Intel Mac OS X 10_9_4) AppleWebKit\\/537.77.4 (KHTML, like Gecko) Version\\/7.0.5 Safari\\/537.77.4\\\"\",\"userId\":\"96\"}\n",
      "{\"artist\":\"The Kills\",\"auth\":\"Logged In\",\"firstName\":\"Cierra\",\"gender\":\"F\",\"itemInSession\":3,\"lastName\":\"Finley\",\"length\":203.38893,\"level\":\"free\",\"location\":\"Richmond, VA\",\"method\":\"PUT\",\"page\":\"NextSong\",\"registration\":1541013292796.0,\"sessionId\":443,\"song\":\"Last Day Of Magic\",\"status\":200,\"ts\":1541945669796,\"userAgent\":\"\\\"Mozilla\\/5.0 (Macintosh; Intel Mac OS X 10_9_4) AppleWebKit\\/537.77.4 (KHTML, like Gecko) Version\\/7.0.5 Safari\\/537.77.4\\\"\",\"userId\":\"96\"}\n",
      "{\"artist\":null,\"auth\":\"Logged In\",\"firstName\":\"Aleena\",\"gender\":\"F\",\"itemInSession\":0,\"lastName\":\"Kirby\",\"length\":null,\"level\":\"paid\",\"location\":\"Waterloo-Cedar Falls, IA\",\"method\":\"GET\",\"page\":\"Home\",\"registration\":1541022995796.0,\"sessionId\":448,\"song\":null,\"status\":200,\"ts\":1541945702796,\"userAgent\":\"Mozilla\\/5.0 (Macintosh; Intel Mac OS X 10.9; rv:31.0) Gecko\\/20100101 Firefox\\/31.0\",\"userId\":\"44\"}\n",
      "{\"artist\":\"Collie Buddz featuring Paul Wall\",\"auth\":\"Logged In\",\"firstName\":\"Aleena\",\"gender\":\"F\",\"itemInSession\":1,\"lastName\":\"Kirby\",\"length\":271.62077,\"level\":\"paid\",\"location\":\"Waterloo-Cedar Falls, IA\",\"method\":\"PUT\",\"page\":\"NextSong\",\"registration\":1541022995796.0,\"sessionId\":448,\"song\":\"What A Feeling\",\"status\":200,\"ts\":1541945706796,\"userAgent\":\"Mozilla\\/5.0 (Macintosh; Intel Mac OS X 10.9; rv:31.0) Gecko\\/20100101 Firefox\\/31.0\",\"userId\":\"44\"}\n",
      "{\"artist\":\"Charttraxx Karaoke\",\"auth\":\"Logged In\",\"firstName\":\"Cierra\",\"gender\":\"F\",\"itemInSession\":4,\"lastName\":\"Finley\",\"length\":225.17506,\"level\":\"free\",\"location\":\"Richmond, VA\",\"method\":\"PUT\",\"page\":\"NextSong\",\"registration\":1541013292796.0,\"sessionId\":443,\"song\":\"Fireflies\",\"status\":200,\"ts\":1541945872796,\"userAgent\":\"\\\"Mozilla\\/5.0 (Macintosh; Intel Mac OS X 10_9_4) AppleWebKit\\/537.77.4 (KHTML, like Gecko) Version\\/7.0.5 Safari\\/537.77.4\\\"\",\"userId\":\"96\"}\n",
      "{\"artist\":\"Band Of Horses\",\"auth\":\"Logged In\",\"firstName\":\"Aleena\",\"gender\":\"F\",\"itemInSession\":2,\"lastName\":\"Kirby\",\"length\":321.14893,\"level\":\"paid\",\"location\":\"Waterloo-Cedar Falls, IA\",\"method\":\"PUT\",\"page\":\"NextSong\",\"registration\":1541022995796.0,\"sessionId\":448,\"song\":\"The Funeral (Album Version)\",\"status\":200,\"ts\":1541945977796,\"userAgent\":\"Mozilla\\/5.0 (Macintosh; Intel Mac OS X 10.9; rv:31.0) Gecko\\/20100101 Firefox\\/31.0\",\"userId\":\"44\"}\n",
      "{\"artist\":\"Coldplay\",\"auth\":\"Logged In\",\"firstName\":\"Aleena\",\"gender\":\"F\",\"itemInSession\":3,\"lastName\":\"Kirby\",\"length\":307.51302,\"level\":\"paid\",\"location\":\"Waterloo-Cedar Falls, IA\",\"method\":\"PUT\",\"page\":\"NextSong\",\"registration\":1541022995796.0,\"sessionId\":448,\"song\":\"Clocks\",\"status\":200,\"ts\":1541946298796,\"userAgent\":\"Mozilla\\/5.0 (Macintosh; Intel Mac OS X 10.9; rv:31.0) Gecko\\/20100101 Firefox\\/31.0\",\"userId\":\"44\"}\n",
      "{\"artist\":\"Bon Jovi\",\"auth\":\"Logged In\",\"firstName\":\"Aleena\",\"gender\":\"F\",\"itemInSession\":4,\"lastName\":\"Kirby\",\"length\":228.75383,\"level\":\"paid\",\"location\":\"Waterloo-Cedar Falls, IA\",\"method\":\"PUT\",\"page\":\"NextSong\",\"registration\":1541022995796.0,\"sessionId\":448,\"song\":\"Have A Nice Day\",\"status\":200,\"ts\":1541946605796,\"userAgent\":\"Mozilla\\/5.0 (Macintosh; Intel Mac OS X 10.9; rv:31.0) Gecko\\/20100101 Firefox\\/31.0\",\"userId\":\"44\"}\n",
      "{\"artist\":\"P.O.D.\",\"auth\":\"Logged In\",\"firstName\":\"Aleena\",\"gender\":\"F\",\"itemInSession\":5,\"lastName\":\"Kirby\",\"length\":203.7024,\"level\":\"paid\",\"location\":\"Waterloo-Cedar Falls, IA\",\"method\":\"PUT\",\"page\":\"NextSong\",\"registration\":1541022995796.0,\"sessionId\":448,\"song\":\"Alive (2006 Remastered Album Version)\",\"status\":200,\"ts\":1541946833796,\"userAgent\":\"Mozilla\\/5.0 (Macintosh; Intel Mac OS X 10.9; rv:31.0) Gecko\\/20100101 Firefox\\/31.0\",\"userId\":\"44\"}\n",
      "{\"artist\":\"Bloc Party\",\"auth\":\"Logged In\",\"firstName\":\"Aleena\",\"gender\":\"F\",\"itemInSession\":6,\"lastName\":\"Kirby\",\"length\":222.04036,\"level\":\"paid\",\"location\":\"Waterloo-Cedar Falls, IA\",\"method\":\"PUT\",\"page\":\"NextSong\",\"registration\":1541022995796.0,\"sessionId\":448,\"song\":\"Plans (Replanned by Mogwai)\",\"status\":200,\"ts\":1541947036796,\"userAgent\":\"Mozilla\\/5.0 (Macintosh; Intel Mac OS X 10.9; rv:31.0) Gecko\\/20100101 Firefox\\/31.0\",\"userId\":\"44\"}\n",
      "{\"artist\":\"Los Prisioneros\",\"auth\":\"Logged In\",\"firstName\":\"Aleena\",\"gender\":\"F\",\"itemInSession\":7,\"lastName\":\"Kirby\",\"length\":211.12118,\"level\":\"paid\",\"location\":\"Waterloo-Cedar Falls, IA\",\"method\":\"PUT\",\"page\":\"NextSong\",\"registration\":1541022995796.0,\"sessionId\":448,\"song\":\"Pa Pa Pa\",\"status\":200,\"ts\":1541947258796,\"userAgent\":\"Mozilla\\/5.0 (Macintosh; Intel Mac OS X 10.9; rv:31.0) Gecko\\/20100101 Firefox\\/31.0\",\"userId\":\"44\"}\n",
      "{\"artist\":\"Octopus Project\",\"auth\":\"Logged In\",\"firstName\":\"Aleena\",\"gender\":\"F\",\"itemInSession\":8,\"lastName\":\"Kirby\",\"length\":175.25506,\"level\":\"paid\",\"location\":\"Waterloo-Cedar Falls, IA\",\"method\":\"PUT\",\"page\":\"NextSong\",\"registration\":1541022995796.0,\"sessionId\":448,\"song\":\"Lots More Stairs\",\"status\":200,\"ts\":1541947469796,\"userAgent\":\"Mozilla\\/5.0 (Macintosh; Intel Mac OS X 10.9; rv:31.0) Gecko\\/20100101 Firefox\\/31.0\",\"userId\":\"44\"}\n",
      "{\"artist\":\"Roudoudou\",\"auth\":\"Logged In\",\"firstName\":\"Aleena\",\"gender\":\"F\",\"itemInSession\":9,\"lastName\":\"Kirby\",\"length\":18.41587,\"level\":\"paid\",\"location\":\"Waterloo-Cedar Falls, IA\",\"method\":\"PUT\",\"page\":\"NextSong\",\"registration\":1541022995796.0,\"sessionId\":448,\"song\":\"Ecoute Ce Scratch\",\"status\":200,\"ts\":1541947644796,\"userAgent\":\"Mozilla\\/5.0 (Macintosh; Intel Mac OS X 10.9; rv:31.0) Gecko\\/20100101 Firefox\\/31.0\",\"userId\":\"44\"}\n",
      "{\"artist\":\"Africando\",\"auth\":\"Logged In\",\"firstName\":\"Aleena\",\"gender\":\"F\",\"itemInSession\":10,\"lastName\":\"Kirby\",\"length\":253.54404,\"level\":\"paid\",\"location\":\"Waterloo-Cedar Falls, IA\",\"method\":\"PUT\",\"page\":\"NextSong\",\"registration\":1541022995796.0,\"sessionId\":448,\"song\":\"Tierra Tradicional\",\"status\":200,\"ts\":1541947662796,\"userAgent\":\"Mozilla\\/5.0 (Macintosh; Intel Mac OS X 10.9; rv:31.0) Gecko\\/20100101 Firefox\\/31.0\",\"userId\":\"44\"}\n",
      "{\"artist\":\"RUN-DMC Featuring Method Man_ Kenny Cash_ Mike Ransom_ and Jamel Simmons\",\"auth\":\"Logged In\",\"firstName\":\"Aleena\",\"gender\":\"F\",\"itemInSession\":11,\"lastName\":\"Kirby\",\"length\":266.52689,\"level\":\"paid\",\"location\":\"Waterloo-Cedar Falls, IA\",\"method\":\"PUT\",\"page\":\"NextSong\",\"registration\":1541022995796.0,\"sessionId\":448,\"song\":\"Simmons Incorporated\",\"status\":200,\"ts\":1541947915796,\"userAgent\":\"Mozilla\\/5.0 (Macintosh; Intel Mac OS X 10.9; rv:31.0) Gecko\\/20100101 Firefox\\/31.0\",\"userId\":\"44\"}\n",
      "{\"artist\":null,\"auth\":\"Logged In\",\"firstName\":\"Colm\",\"gender\":\"M\",\"itemInSession\":0,\"lastName\":\"Santana\",\"length\":null,\"level\":\"free\",\"location\":\"Nashville-Davidson--Murfreesboro--Franklin, TN\",\"method\":\"GET\",\"page\":\"Home\",\"registration\":1540856629796.0,\"sessionId\":414,\"song\":null,\"status\":200,\"ts\":1541948035796,\"userAgent\":\"\\\"Mozilla\\/5.0 (Macintosh; Intel Mac OS X 10_9_4) AppleWebKit\\/537.36 (KHTML, like Gecko) Chrome\\/36.0.1985.125 Safari\\/537.36\\\"\",\"userId\":\"67\"}\n",
      "{\"artist\":\"Graham Coxon\",\"auth\":\"Logged In\",\"firstName\":\"Colm\",\"gender\":\"M\",\"itemInSession\":1,\"lastName\":\"Santana\",\"length\":197.14567,\"level\":\"free\",\"location\":\"Nashville-Davidson--Murfreesboro--Franklin, TN\",\"method\":\"PUT\",\"page\":\"NextSong\",\"registration\":1540856629796.0,\"sessionId\":414,\"song\":\"I'm Goin' Away\",\"status\":200,\"ts\":1541948047796,\"userAgent\":\"\\\"Mozilla\\/5.0 (Macintosh; Intel Mac OS X 10_9_4) AppleWebKit\\/537.36 (KHTML, like Gecko) Chrome\\/36.0.1985.125 Safari\\/537.36\\\"\",\"userId\":\"67\"}\n",
      "{\"artist\":\"Queens Of The Stone Age\",\"auth\":\"Logged In\",\"firstName\":\"Aleena\",\"gender\":\"F\",\"itemInSession\":12,\"lastName\":\"Kirby\",\"length\":231.02649,\"level\":\"paid\",\"location\":\"Waterloo-Cedar Falls, IA\",\"method\":\"PUT\",\"page\":\"NextSong\",\"registration\":1541022995796.0,\"sessionId\":448,\"song\":\"In The Fade\",\"status\":200,\"ts\":1541948181796,\"userAgent\":\"Mozilla\\/5.0 (Macintosh; Intel Mac OS X 10.9; rv:31.0) Gecko\\/20100101 Firefox\\/31.0\",\"userId\":\"44\"}\n",
      "{\"artist\":\"Dance Gavin Dance\",\"auth\":\"Logged In\",\"firstName\":\"Colm\",\"gender\":\"M\",\"itemInSession\":2,\"lastName\":\"Santana\",\"length\":193.30567,\"level\":\"free\",\"location\":\"Nashville-Davidson--Murfreesboro--Franklin, TN\",\"method\":\"PUT\",\"page\":\"NextSong\",\"registration\":1540856629796.0,\"sessionId\":414,\"song\":\"Strawberry Andr\\u00c3\\u0083\\u00c2\\u00a9 (Album Version)\",\"status\":200,\"ts\":1541948244796,\"userAgent\":\"\\\"Mozilla\\/5.0 (Macintosh; Intel Mac OS X 10_9_4) AppleWebKit\\/537.36 (KHTML, like Gecko) Chrome\\/36.0.1985.125 Safari\\/537.36\\\"\",\"userId\":\"67\"}\n",
      "{\"artist\":null,\"auth\":\"Logged In\",\"firstName\":\"Colm\",\"gender\":\"M\",\"itemInSession\":3,\"lastName\":\"Santana\",\"length\":null,\"level\":\"free\",\"location\":\"Nashville-Davidson--Murfreesboro--Franklin, TN\",\"method\":\"GET\",\"page\":\"Home\",\"registration\":1540856629796.0,\"sessionId\":414,\"song\":null,\"status\":200,\"ts\":1541948258796,\"userAgent\":\"\\\"Mozilla\\/5.0 (Macintosh; Intel Mac OS X 10_9_4) AppleWebKit\\/537.36 (KHTML, like Gecko) Chrome\\/36.0.1985.125 Safari\\/537.36\\\"\",\"userId\":\"67\"}\n",
      "{\"artist\":\"Passion Pit\",\"auth\":\"Logged In\",\"firstName\":\"Aleena\",\"gender\":\"F\",\"itemInSession\":13,\"lastName\":\"Kirby\",\"length\":243.69587,\"level\":\"paid\",\"location\":\"Waterloo-Cedar Falls, IA\",\"method\":\"PUT\",\"page\":\"NextSong\",\"registration\":1541022995796.0,\"sessionId\":448,\"song\":\"Eyes As Candles\",\"status\":200,\"ts\":1541948412796,\"userAgent\":\"Mozilla\\/5.0 (Macintosh; Intel Mac OS X 10.9; rv:31.0) Gecko\\/20100101 Firefox\\/31.0\",\"userId\":\"44\"}\n",
      "{\"artist\":null,\"auth\":\"Logged In\",\"firstName\":\"Aleena\",\"gender\":\"F\",\"itemInSession\":14,\"lastName\":\"Kirby\",\"length\":null,\"level\":\"paid\",\"location\":\"Waterloo-Cedar Falls, IA\",\"method\":\"GET\",\"page\":\"Home\",\"registration\":1541022995796.0,\"sessionId\":448,\"song\":null,\"status\":200,\"ts\":1541948426796,\"userAgent\":\"Mozilla\\/5.0 (Macintosh; Intel Mac OS X 10.9; rv:31.0) Gecko\\/20100101 Firefox\\/31.0\",\"userId\":\"44\"}\n",
      "{\"artist\":\"Black Eyed Peas\",\"auth\":\"Logged In\",\"firstName\":\"Colm\",\"gender\":\"M\",\"itemInSession\":4,\"lastName\":\"Santana\",\"length\":229.61587,\"level\":\"free\",\"location\":\"Nashville-Davidson--Murfreesboro--Franklin, TN\",\"method\":\"PUT\",\"page\":\"NextSong\",\"registration\":1540856629796.0,\"sessionId\":414,\"song\":\"Let's Get It Started\",\"status\":200,\"ts\":1541948437796,\"userAgent\":\"\\\"Mozilla\\/5.0 (Macintosh; Intel Mac OS X 10_9_4) AppleWebKit\\/537.36 (KHTML, like Gecko) Chrome\\/36.0.1985.125 Safari\\/537.36\\\"\",\"userId\":\"67\"}\n",
      "{\"artist\":\"Plastic Bertrand\",\"auth\":\"Logged In\",\"firstName\":\"Colm\",\"gender\":\"M\",\"itemInSession\":5,\"lastName\":\"Santana\",\"length\":180.00934,\"level\":\"free\",\"location\":\"Nashville-Davidson--Murfreesboro--Franklin, TN\",\"method\":\"PUT\",\"page\":\"NextSong\",\"registration\":1540856629796.0,\"sessionId\":414,\"song\":\"Ca plane pour moi\",\"status\":200,\"ts\":1541948666796,\"userAgent\":\"\\\"Mozilla\\/5.0 (Macintosh; Intel Mac OS X 10_9_4) AppleWebKit\\/537.36 (KHTML, like Gecko) Chrome\\/36.0.1985.125 Safari\\/537.36\\\"\",\"userId\":\"67\"}\n",
      "{\"artist\":\"Cream\",\"auth\":\"Logged In\",\"firstName\":\"Colm\",\"gender\":\"M\",\"itemInSession\":6,\"lastName\":\"Santana\",\"length\":166.5824,\"level\":\"free\",\"location\":\"Nashville-Davidson--Murfreesboro--Franklin, TN\",\"method\":\"PUT\",\"page\":\"NextSong\",\"registration\":1540856629796.0,\"sessionId\":414,\"song\":\"Strange Brew\",\"status\":200,\"ts\":1541948846796,\"userAgent\":\"\\\"Mozilla\\/5.0 (Macintosh; Intel Mac OS X 10_9_4) AppleWebKit\\/537.36 (KHTML, like Gecko) Chrome\\/36.0.1985.125 Safari\\/537.36\\\"\",\"userId\":\"67\"}\n",
      "{\"artist\":\"Coldplay\",\"auth\":\"Logged In\",\"firstName\":\"Colm\",\"gender\":\"M\",\"itemInSession\":7,\"lastName\":\"Santana\",\"length\":284.39465,\"level\":\"free\",\"location\":\"Nashville-Davidson--Murfreesboro--Franklin, TN\",\"method\":\"PUT\",\"page\":\"NextSong\",\"registration\":1540856629796.0,\"sessionId\":414,\"song\":\"A Message\",\"status\":200,\"ts\":1541949012796,\"userAgent\":\"\\\"Mozilla\\/5.0 (Macintosh; Intel Mac OS X 10_9_4) AppleWebKit\\/537.36 (KHTML, like Gecko) Chrome\\/36.0.1985.125 Safari\\/537.36\\\"\",\"userId\":\"67\"}\n",
      "{\"artist\":\"Cute Is What We Aim For\",\"auth\":\"Logged In\",\"firstName\":\"Colm\",\"gender\":\"M\",\"itemInSession\":8,\"lastName\":\"Santana\",\"length\":172.22485,\"level\":\"free\",\"location\":\"Nashville-Davidson--Murfreesboro--Franklin, TN\",\"method\":\"PUT\",\"page\":\"NextSong\",\"registration\":1540856629796.0,\"sessionId\":414,\"song\":\"Sweat the Battle Before the Battle Sweats You (Album Version)\",\"status\":200,\"ts\":1541949296796,\"userAgent\":\"\\\"Mozilla\\/5.0 (Macintosh; Intel Mac OS X 10_9_4) AppleWebKit\\/537.36 (KHTML, like Gecko) Chrome\\/36.0.1985.125 Safari\\/537.36\\\"\",\"userId\":\"67\"}\n",
      "{\"artist\":\"Metallica\",\"auth\":\"Logged In\",\"firstName\":\"Connar\",\"gender\":\"M\",\"itemInSession\":0,\"lastName\":\"Moreno\",\"length\":256.9922,\"level\":\"free\",\"location\":\"Houston-The Woodlands-Sugar Land, TX\",\"method\":\"PUT\",\"page\":\"NextSong\",\"registration\":1540823606796.0,\"sessionId\":218,\"song\":\"Of Wolf And Man\",\"status\":200,\"ts\":1541952079796,\"userAgent\":\"\\\"Mozilla\\/5.0 (Macintosh; Intel Mac OS X 10_10) AppleWebKit\\/538.46 (KHTML, like Gecko) Version\\/8.0 Safari\\/538.46\\\"\",\"userId\":\"62\"}\n",
      "{\"artist\":\"The Kills\",\"auth\":\"Logged In\",\"firstName\":\"Connar\",\"gender\":\"M\",\"itemInSession\":1,\"lastName\":\"Moreno\",\"length\":217.70404,\"level\":\"free\",\"location\":\"Houston-The Woodlands-Sugar Land, TX\",\"method\":\"PUT\",\"page\":\"NextSong\",\"registration\":1540823606796.0,\"sessionId\":218,\"song\":\"Tape Song\",\"status\":200,\"ts\":1541952335796,\"userAgent\":\"\\\"Mozilla\\/5.0 (Macintosh; Intel Mac OS X 10_10) AppleWebKit\\/538.46 (KHTML, like Gecko) Version\\/8.0 Safari\\/538.46\\\"\",\"userId\":\"62\"}\n",
      "{\"artist\":\"Foo Fighters\",\"auth\":\"Logged In\",\"firstName\":\"Connar\",\"gender\":\"M\",\"itemInSession\":2,\"lastName\":\"Moreno\",\"length\":271.38567,\"level\":\"free\",\"location\":\"Houston-The Woodlands-Sugar Land, TX\",\"method\":\"PUT\",\"page\":\"NextSong\",\"registration\":1540823606796.0,\"sessionId\":218,\"song\":\"The Pretender\",\"status\":200,\"ts\":1541952552796,\"userAgent\":\"\\\"Mozilla\\/5.0 (Macintosh; Intel Mac OS X 10_10) AppleWebKit\\/538.46 (KHTML, like Gecko) Version\\/8.0 Safari\\/538.46\\\"\",\"userId\":\"62\"}\n",
      "{\"artist\":\"Plaid\",\"auth\":\"Logged In\",\"firstName\":\"Connar\",\"gender\":\"M\",\"itemInSession\":3,\"lastName\":\"Moreno\",\"length\":260.96281,\"level\":\"free\",\"location\":\"Houston-The Woodlands-Sugar Land, TX\",\"method\":\"PUT\",\"page\":\"NextSong\",\"registration\":1540823606796.0,\"sessionId\":218,\"song\":\"Eyen [Chosen by fans on Warp20.net]\",\"status\":200,\"ts\":1541952823796,\"userAgent\":\"\\\"Mozilla\\/5.0 (Macintosh; Intel Mac OS X 10_10) AppleWebKit\\/538.46 (KHTML, like Gecko) Version\\/8.0 Safari\\/538.46\\\"\",\"userId\":\"62\"}\n",
      "{\"artist\":null,\"auth\":\"Logged In\",\"firstName\":\"Brayden\",\"gender\":\"M\",\"itemInSession\":0,\"lastName\":\"Clark\",\"length\":null,\"level\":\"free\",\"location\":\"New York-Newark-Jersey City, NY-NJ-PA\",\"method\":\"GET\",\"page\":\"Home\",\"registration\":1541029236796.0,\"sessionId\":120,\"song\":null,\"status\":200,\"ts\":1541954601796,\"userAgent\":\"Mozilla\\/5.0 (Windows NT 6.1; WOW64; rv:31.0) Gecko\\/20100101 Firefox\\/31.0\",\"userId\":\"41\"}\n",
      "{\"artist\":null,\"auth\":\"Logged In\",\"firstName\":\"Theodore\",\"gender\":\"M\",\"itemInSession\":0,\"lastName\":\"Harris\",\"length\":null,\"level\":\"free\",\"location\":\"Red Bluff, CA\",\"method\":\"GET\",\"page\":\"Home\",\"registration\":1541097374796.0,\"sessionId\":462,\"song\":null,\"status\":200,\"ts\":1541959679796,\"userAgent\":\"Mozilla\\/5.0 (Windows NT 6.1; WOW64; rv:31.0) Gecko\\/20100101 Firefox\\/31.0\",\"userId\":\"14\"}\n",
      "{\"artist\":\"The Van Pelt\",\"auth\":\"Logged In\",\"firstName\":\"Theodore\",\"gender\":\"M\",\"itemInSession\":1,\"lastName\":\"Harris\",\"length\":208.71791,\"level\":\"free\",\"location\":\"Red Bluff, CA\",\"method\":\"PUT\",\"page\":\"NextSong\",\"registration\":1541097374796.0,\"sessionId\":462,\"song\":\"It's New To Me\",\"status\":200,\"ts\":1541959713796,\"userAgent\":\"Mozilla\\/5.0 (Windows NT 6.1; WOW64; rv:31.0) Gecko\\/20100101 Firefox\\/31.0\",\"userId\":\"14\"}\n",
      "{\"artist\":null,\"auth\":\"Logged In\",\"firstName\":\"Ryan\",\"gender\":\"M\",\"itemInSession\":0,\"lastName\":\"Smith\",\"length\":null,\"level\":\"free\",\"location\":\"San Jose-Sunnyvale-Santa Clara, CA\",\"method\":\"GET\",\"page\":\"Home\",\"registration\":1541016707796.0,\"sessionId\":472,\"song\":null,\"status\":200,\"ts\":1541962018796,\"userAgent\":\"\\\"Mozilla\\/5.0 (X11; Linux x86_64) AppleWebKit\\/537.36 (KHTML, like Gecko) Ubuntu Chromium\\/36.0.1985.125 Chrome\\/36.0.1985.125 Safari\\/537.36\\\"\",\"userId\":\"26\"}\n",
      "{\"artist\":\"+44\",\"auth\":\"Logged In\",\"firstName\":\"Ryan\",\"gender\":\"M\",\"itemInSession\":1,\"lastName\":\"Smith\",\"length\":224.57424,\"level\":\"free\",\"location\":\"San Jose-Sunnyvale-Santa Clara, CA\",\"method\":\"PUT\",\"page\":\"NextSong\",\"registration\":1541016707796.0,\"sessionId\":472,\"song\":\"Make You Smile\",\"status\":200,\"ts\":1541962092796,\"userAgent\":\"\\\"Mozilla\\/5.0 (X11; Linux x86_64) AppleWebKit\\/537.36 (KHTML, like Gecko) Ubuntu Chromium\\/36.0.1985.125 Chrome\\/36.0.1985.125 Safari\\/537.36\\\"\",\"userId\":\"26\"}\n",
      "{\"artist\":null,\"auth\":\"Logged In\",\"firstName\":\"Rylan\",\"gender\":\"M\",\"itemInSession\":0,\"lastName\":\"George\",\"length\":null,\"level\":\"free\",\"location\":\"Birmingham-Hoover, AL\",\"method\":\"GET\",\"page\":\"Home\",\"registration\":1541020249796.0,\"sessionId\":446,\"song\":null,\"status\":200,\"ts\":1541962134796,\"userAgent\":\"\\\"Mozilla\\/5.0 (Macintosh; Intel Mac OS X 10_9_4) AppleWebKit\\/537.77.4 (KHTML, like Gecko) Version\\/7.0.5 Safari\\/537.77.4\\\"\",\"userId\":\"16\"}\n",
      "{\"artist\":\"Chris Brown\",\"auth\":\"Logged In\",\"firstName\":\"Rylan\",\"gender\":\"M\",\"itemInSession\":1,\"lastName\":\"George\",\"length\":275.1473,\"level\":\"free\",\"location\":\"Birmingham-Hoover, AL\",\"method\":\"PUT\",\"page\":\"NextSong\",\"registration\":1541020249796.0,\"sessionId\":446,\"song\":\"I May Never Find\",\"status\":200,\"ts\":1541962141796,\"userAgent\":\"\\\"Mozilla\\/5.0 (Macintosh; Intel Mac OS X 10_9_4) AppleWebKit\\/537.77.4 (KHTML, like Gecko) Version\\/7.0.5 Safari\\/537.77.4\\\"\",\"userId\":\"16\"}\n",
      "{\"artist\":\"KT Tunstall\",\"auth\":\"Logged In\",\"firstName\":\"Ryan\",\"gender\":\"M\",\"itemInSession\":2,\"lastName\":\"Smith\",\"length\":170.47465,\"level\":\"free\",\"location\":\"San Jose-Sunnyvale-Santa Clara, CA\",\"method\":\"PUT\",\"page\":\"NextSong\",\"registration\":1541016707796.0,\"sessionId\":472,\"song\":\"Black Horse And The Cherry Tree (Radio Version)\",\"status\":200,\"ts\":1541962316796,\"userAgent\":\"\\\"Mozilla\\/5.0 (X11; Linux x86_64) AppleWebKit\\/537.36 (KHTML, like Gecko) Ubuntu Chromium\\/36.0.1985.125 Chrome\\/36.0.1985.125 Safari\\/537.36\\\"\",\"userId\":\"26\"}\n",
      "{\"artist\":\"Cascada\",\"auth\":\"Logged In\",\"firstName\":\"Rylan\",\"gender\":\"M\",\"itemInSession\":2,\"lastName\":\"George\",\"length\":184.39791,\"level\":\"free\",\"location\":\"Birmingham-Hoover, AL\",\"method\":\"PUT\",\"page\":\"NextSong\",\"registration\":1541020249796.0,\"sessionId\":446,\"song\":\"Kids In America\",\"status\":200,\"ts\":1541962416796,\"userAgent\":\"\\\"Mozilla\\/5.0 (Macintosh; Intel Mac OS X 10_9_4) AppleWebKit\\/537.77.4 (KHTML, like Gecko) Version\\/7.0.5 Safari\\/537.77.4\\\"\",\"userId\":\"16\"}\n",
      "{\"artist\":\"Incubus\",\"auth\":\"Logged In\",\"firstName\":\"Ryan\",\"gender\":\"M\",\"itemInSession\":3,\"lastName\":\"Smith\",\"length\":293.38077,\"level\":\"free\",\"location\":\"San Jose-Sunnyvale-Santa Clara, CA\",\"method\":\"PUT\",\"page\":\"NextSong\",\"registration\":1541016707796.0,\"sessionId\":472,\"song\":\"Black Heart Inertia\",\"status\":200,\"ts\":1541962486796,\"userAgent\":\"\\\"Mozilla\\/5.0 (X11; Linux x86_64) AppleWebKit\\/537.36 (KHTML, like Gecko) Ubuntu Chromium\\/36.0.1985.125 Chrome\\/36.0.1985.125 Safari\\/537.36\\\"\",\"userId\":\"26\"}\n",
      "{\"artist\":null,\"auth\":\"Logged In\",\"firstName\":\"Ryan\",\"gender\":\"M\",\"itemInSession\":4,\"lastName\":\"Smith\",\"length\":null,\"level\":\"free\",\"location\":\"San Jose-Sunnyvale-Santa Clara, CA\",\"method\":\"GET\",\"page\":\"Help\",\"registration\":1541016707796.0,\"sessionId\":472,\"song\":null,\"status\":200,\"ts\":1541962633796,\"userAgent\":\"\\\"Mozilla\\/5.0 (X11; Linux x86_64) AppleWebKit\\/537.36 (KHTML, like Gecko) Ubuntu Chromium\\/36.0.1985.125 Chrome\\/36.0.1985.125 Safari\\/537.36\\\"\",\"userId\":\"26\"}\n",
      "{\"artist\":null,\"auth\":\"Logged In\",\"firstName\":\"Ryan\",\"gender\":\"M\",\"itemInSession\":5,\"lastName\":\"Smith\",\"length\":null,\"level\":\"free\",\"location\":\"San Jose-Sunnyvale-Santa Clara, CA\",\"method\":\"GET\",\"page\":\"Home\",\"registration\":1541016707796.0,\"sessionId\":472,\"song\":null,\"status\":200,\"ts\":1541962656796,\"userAgent\":\"\\\"Mozilla\\/5.0 (X11; Linux x86_64) AppleWebKit\\/537.36 (KHTML, like Gecko) Ubuntu Chromium\\/36.0.1985.125 Chrome\\/36.0.1985.125 Safari\\/537.36\\\"\",\"userId\":\"26\"}\n",
      "{\"artist\":null,\"auth\":\"Logged In\",\"firstName\":\"Tegan\",\"gender\":\"F\",\"itemInSession\":0,\"lastName\":\"Levine\",\"length\":null,\"level\":\"paid\",\"location\":\"Portland-South Portland, ME\",\"method\":\"GET\",\"page\":\"Home\",\"registration\":1540794356796.0,\"sessionId\":435,\"song\":null,\"status\":200,\"ts\":1541965304796,\"userAgent\":\"\\\"Mozilla\\/5.0 (Macintosh; Intel Mac OS X 10_9_4) AppleWebKit\\/537.36 (KHTML, like Gecko) Chrome\\/36.0.1985.143 Safari\\/537.36\\\"\",\"userId\":\"80\"}\n",
      "{\"artist\":\"Miike Snow\",\"auth\":\"Logged In\",\"firstName\":\"Tegan\",\"gender\":\"F\",\"itemInSession\":1,\"lastName\":\"Levine\",\"length\":220.83873,\"level\":\"paid\",\"location\":\"Portland-South Portland, ME\",\"method\":\"PUT\",\"page\":\"NextSong\",\"registration\":1540794356796.0,\"sessionId\":435,\"song\":\"Black & Blue\",\"status\":200,\"ts\":1541965305796,\"userAgent\":\"\\\"Mozilla\\/5.0 (Macintosh; Intel Mac OS X 10_9_4) AppleWebKit\\/537.36 (KHTML, like Gecko) Chrome\\/36.0.1985.143 Safari\\/537.36\\\"\",\"userId\":\"80\"}\n",
      "{\"artist\":\"Cartola\",\"auth\":\"Logged In\",\"firstName\":\"Tegan\",\"gender\":\"F\",\"itemInSession\":2,\"lastName\":\"Levine\",\"length\":208.92689,\"level\":\"paid\",\"location\":\"Portland-South Portland, ME\",\"method\":\"PUT\",\"page\":\"NextSong\",\"registration\":1540794356796.0,\"sessionId\":435,\"song\":\"Sala De Recep\\u00c3\\u0083\\u00c2\\u00a7\\u00c3\\u0083\\u00c2\\u00a3o\",\"status\":200,\"ts\":1541965525796,\"userAgent\":\"\\\"Mozilla\\/5.0 (Macintosh; Intel Mac OS X 10_9_4) AppleWebKit\\/537.36 (KHTML, like Gecko) Chrome\\/36.0.1985.143 Safari\\/537.36\\\"\",\"userId\":\"80\"}\n",
      "{\"artist\":\"Kill The Client\",\"auth\":\"Logged In\",\"firstName\":\"Tegan\",\"gender\":\"F\",\"itemInSession\":3,\"lastName\":\"Levine\",\"length\":70.68689,\"level\":\"paid\",\"location\":\"Portland-South Portland, ME\",\"method\":\"PUT\",\"page\":\"NextSong\",\"registration\":1540794356796.0,\"sessionId\":435,\"song\":\"Commander In Thief\",\"status\":200,\"ts\":1541965733796,\"userAgent\":\"\\\"Mozilla\\/5.0 (Macintosh; Intel Mac OS X 10_9_4) AppleWebKit\\/537.36 (KHTML, like Gecko) Chrome\\/36.0.1985.143 Safari\\/537.36\\\"\",\"userId\":\"80\"}\n",
      "{\"artist\":null,\"auth\":\"Logged In\",\"firstName\":\"Tegan\",\"gender\":\"F\",\"itemInSession\":4,\"lastName\":\"Levine\",\"length\":null,\"level\":\"paid\",\"location\":\"Portland-South Portland, ME\",\"method\":\"GET\",\"page\":\"Home\",\"registration\":1540794356796.0,\"sessionId\":435,\"song\":null,\"status\":200,\"ts\":1541965947796,\"userAgent\":\"\\\"Mozilla\\/5.0 (Macintosh; Intel Mac OS X 10_9_4) AppleWebKit\\/537.36 (KHTML, like Gecko) Chrome\\/36.0.1985.143 Safari\\/537.36\\\"\",\"userId\":\"80\"}\n",
      "{\"artist\":\"Wolfmother\",\"auth\":\"Logged In\",\"firstName\":\"Tegan\",\"gender\":\"F\",\"itemInSession\":5,\"lastName\":\"Levine\",\"length\":175.82975,\"level\":\"paid\",\"location\":\"Portland-South Portland, ME\",\"method\":\"PUT\",\"page\":\"NextSong\",\"registration\":1540794356796.0,\"sessionId\":435,\"song\":\"Woman\",\"status\":200,\"ts\":1541966183796,\"userAgent\":\"\\\"Mozilla\\/5.0 (Macintosh; Intel Mac OS X 10_9_4) AppleWebKit\\/537.36 (KHTML, like Gecko) Chrome\\/36.0.1985.143 Safari\\/537.36\\\"\",\"userId\":\"80\"}\n",
      "{\"artist\":\"Old Crow Medicine Show\",\"auth\":\"Logged In\",\"firstName\":\"Tegan\",\"gender\":\"F\",\"itemInSession\":6,\"lastName\":\"Levine\",\"length\":231.73179,\"level\":\"paid\",\"location\":\"Portland-South Portland, ME\",\"method\":\"PUT\",\"page\":\"NextSong\",\"registration\":1540794356796.0,\"sessionId\":435,\"song\":\"Wagon Wheel\",\"status\":200,\"ts\":1541966358796,\"userAgent\":\"\\\"Mozilla\\/5.0 (Macintosh; Intel Mac OS X 10_9_4) AppleWebKit\\/537.36 (KHTML, like Gecko) Chrome\\/36.0.1985.143 Safari\\/537.36\\\"\",\"userId\":\"80\"}\n",
      "{\"artist\":\"Architecture In Helsinki\",\"auth\":\"Logged In\",\"firstName\":\"Tegan\",\"gender\":\"F\",\"itemInSession\":7,\"lastName\":\"Levine\",\"length\":173.73995,\"level\":\"paid\",\"location\":\"Portland-South Portland, ME\",\"method\":\"PUT\",\"page\":\"NextSong\",\"registration\":1540794356796.0,\"sessionId\":435,\"song\":\"Debbie\",\"status\":200,\"ts\":1541966589796,\"userAgent\":\"\\\"Mozilla\\/5.0 (Macintosh; Intel Mac OS X 10_9_4) AppleWebKit\\/537.36 (KHTML, like Gecko) Chrome\\/36.0.1985.143 Safari\\/537.36\\\"\",\"userId\":\"80\"}\n",
      "{\"artist\":\"Charlie Louvin\",\"auth\":\"Logged In\",\"firstName\":\"Tegan\",\"gender\":\"F\",\"itemInSession\":8,\"lastName\":\"Levine\",\"length\":170.86649,\"level\":\"paid\",\"location\":\"Portland-South Portland, ME\",\"method\":\"PUT\",\"page\":\"NextSong\",\"registration\":1540794356796.0,\"sessionId\":435,\"song\":\"I Think I'll Live\",\"status\":200,\"ts\":1541966762796,\"userAgent\":\"\\\"Mozilla\\/5.0 (Macintosh; Intel Mac OS X 10_9_4) AppleWebKit\\/537.36 (KHTML, like Gecko) Chrome\\/36.0.1985.143 Safari\\/537.36\\\"\",\"userId\":\"80\"}\n",
      "{\"artist\":\"Miguel Morales\",\"auth\":\"Logged In\",\"firstName\":\"Tegan\",\"gender\":\"F\",\"itemInSession\":9,\"lastName\":\"Levine\",\"length\":270.78485,\"level\":\"paid\",\"location\":\"Portland-South Portland, ME\",\"method\":\"PUT\",\"page\":\"NextSong\",\"registration\":1540794356796.0,\"sessionId\":435,\"song\":\"La Derrota de Un Don Juan\",\"status\":200,\"ts\":1541966932796,\"userAgent\":\"\\\"Mozilla\\/5.0 (Macintosh; Intel Mac OS X 10_9_4) AppleWebKit\\/537.36 (KHTML, like Gecko) Chrome\\/36.0.1985.143 Safari\\/537.36\\\"\",\"userId\":\"80\"}\n",
      "{\"artist\":\"Dominique A\",\"auth\":\"Logged In\",\"firstName\":\"Tegan\",\"gender\":\"F\",\"itemInSession\":10,\"lastName\":\"Levine\",\"length\":153.20771,\"level\":\"paid\",\"location\":\"Portland-South Portland, ME\",\"method\":\"PUT\",\"page\":\"NextSong\",\"registration\":1540794356796.0,\"sessionId\":435,\"song\":\"Le Courage Des Oiseaux\",\"status\":200,\"ts\":1541967202796,\"userAgent\":\"\\\"Mozilla\\/5.0 (Macintosh; Intel Mac OS X 10_9_4) AppleWebKit\\/537.36 (KHTML, like Gecko) Chrome\\/36.0.1985.143 Safari\\/537.36\\\"\",\"userId\":\"80\"}\n",
      "{\"artist\":\"Cock Sparrer\",\"auth\":\"Logged In\",\"firstName\":\"Tegan\",\"gender\":\"F\",\"itemInSession\":11,\"lastName\":\"Levine\",\"length\":203.25832,\"level\":\"paid\",\"location\":\"Portland-South Portland, ME\",\"method\":\"PUT\",\"page\":\"NextSong\",\"registration\":1540794356796.0,\"sessionId\":435,\"song\":\"Run With The Blind\",\"status\":200,\"ts\":1541967355796,\"userAgent\":\"\\\"Mozilla\\/5.0 (Macintosh; Intel Mac OS X 10_9_4) AppleWebKit\\/537.36 (KHTML, like Gecko) Chrome\\/36.0.1985.143 Safari\\/537.36\\\"\",\"userId\":\"80\"}\n",
      "{\"artist\":\"Jimmy Wakely\",\"auth\":\"Logged In\",\"firstName\":\"Tegan\",\"gender\":\"F\",\"itemInSession\":12,\"lastName\":\"Levine\",\"length\":165.74649,\"level\":\"paid\",\"location\":\"Portland-South Portland, ME\",\"method\":\"PUT\",\"page\":\"NextSong\",\"registration\":1540794356796.0,\"sessionId\":435,\"song\":\"I Love You So Much It Hurts\",\"status\":200,\"ts\":1541967558796,\"userAgent\":\"\\\"Mozilla\\/5.0 (Macintosh; Intel Mac OS X 10_9_4) AppleWebKit\\/537.36 (KHTML, like Gecko) Chrome\\/36.0.1985.143 Safari\\/537.36\\\"\",\"userId\":\"80\"}\n",
      "{\"artist\":\"Peter Doherty\",\"auth\":\"Logged In\",\"firstName\":\"Tegan\",\"gender\":\"F\",\"itemInSession\":13,\"lastName\":\"Levine\",\"length\":217.02485,\"level\":\"paid\",\"location\":\"Portland-South Portland, ME\",\"method\":\"PUT\",\"page\":\"NextSong\",\"registration\":1540794356796.0,\"sessionId\":435,\"song\":\"A Little Death Around the Eyes\",\"status\":200,\"ts\":1541967723796,\"userAgent\":\"\\\"Mozilla\\/5.0 (Macintosh; Intel Mac OS X 10_9_4) AppleWebKit\\/537.36 (KHTML, like Gecko) Chrome\\/36.0.1985.143 Safari\\/537.36\\\"\",\"userId\":\"80\"}\n",
      "{\"artist\":\"Katy Perry\",\"auth\":\"Logged In\",\"firstName\":\"Tegan\",\"gender\":\"F\",\"itemInSession\":14,\"lastName\":\"Levine\",\"length\":246.41261,\"level\":\"paid\",\"location\":\"Portland-South Portland, ME\",\"method\":\"PUT\",\"page\":\"NextSong\",\"registration\":1540794356796.0,\"sessionId\":435,\"song\":\"Thinking Of You\",\"status\":200,\"ts\":1541967940796,\"userAgent\":\"\\\"Mozilla\\/5.0 (Macintosh; Intel Mac OS X 10_9_4) AppleWebKit\\/537.36 (KHTML, like Gecko) Chrome\\/36.0.1985.143 Safari\\/537.36\\\"\",\"userId\":\"80\"}\n",
      "{\"artist\":\"Sidewalk Prophets\",\"auth\":\"Logged In\",\"firstName\":\"Molly\",\"gender\":\"F\",\"itemInSession\":0,\"lastName\":\"Taylor\",\"length\":260.62322,\"level\":\"free\",\"location\":\"St. Louis, MO-IL\",\"method\":\"PUT\",\"page\":\"NextSong\",\"registration\":1540992766796.0,\"sessionId\":464,\"song\":\"You Love Me Anyway (Album)\",\"status\":200,\"ts\":1541970568796,\"userAgent\":\"\\\"Mozilla\\/5.0 (X11; Linux x86_64) AppleWebKit\\/537.36 (KHTML, like Gecko) Chrome\\/37.0.2062.94 Safari\\/537.36\\\"\",\"userId\":\"35\"}\n",
      "{\"artist\":\"Rise Against\",\"auth\":\"Logged In\",\"firstName\":\"Molly\",\"gender\":\"F\",\"itemInSession\":1,\"lastName\":\"Taylor\",\"length\":221.17832,\"level\":\"free\",\"location\":\"St. Louis, MO-IL\",\"method\":\"PUT\",\"page\":\"NextSong\",\"registration\":1540992766796.0,\"sessionId\":464,\"song\":\"Torches\",\"status\":200,\"ts\":1541970828796,\"userAgent\":\"\\\"Mozilla\\/5.0 (X11; Linux x86_64) AppleWebKit\\/537.36 (KHTML, like Gecko) Chrome\\/37.0.2062.94 Safari\\/537.36\\\"\",\"userId\":\"35\"}\n",
      "{\"artist\":\"K'Naan\",\"auth\":\"Logged In\",\"firstName\":\"Molly\",\"gender\":\"F\",\"itemInSession\":2,\"lastName\":\"Taylor\",\"length\":220.49914,\"level\":\"free\",\"location\":\"St. Louis, MO-IL\",\"method\":\"PUT\",\"page\":\"NextSong\",\"registration\":1540992766796.0,\"sessionId\":464,\"song\":\"Wavin'  Flag\",\"status\":200,\"ts\":1541971049796,\"userAgent\":\"\\\"Mozilla\\/5.0 (X11; Linux x86_64) AppleWebKit\\/537.36 (KHTML, like Gecko) Chrome\\/37.0.2062.94 Safari\\/537.36\\\"\",\"userId\":\"35\"}\n",
      "{\"artist\":\"Patrick Jumpen\",\"auth\":\"Logged In\",\"firstName\":\"Ryan\",\"gender\":\"M\",\"itemInSession\":0,\"lastName\":\"Smith\",\"length\":208.87465,\"level\":\"free\",\"location\":\"San Jose-Sunnyvale-Santa Clara, CA\",\"method\":\"PUT\",\"page\":\"NextSong\",\"registration\":1541016707796.0,\"sessionId\":480,\"song\":\"Holiday\",\"status\":200,\"ts\":1541979540796,\"userAgent\":\"\\\"Mozilla\\/5.0 (X11; Linux x86_64) AppleWebKit\\/537.36 (KHTML, like Gecko) Ubuntu Chromium\\/36.0.1985.125 Chrome\\/36.0.1985.125 Safari\\/537.36\\\"\",\"userId\":\"26\"}\n",
      "{\"artist\":\"Alicia Keys\",\"auth\":\"Logged In\",\"firstName\":\"Ryan\",\"gender\":\"M\",\"itemInSession\":1,\"lastName\":\"Smith\",\"length\":216.47628,\"level\":\"free\",\"location\":\"San Jose-Sunnyvale-Santa Clara, CA\",\"method\":\"PUT\",\"page\":\"NextSong\",\"registration\":1541016707796.0,\"sessionId\":480,\"song\":\"Empire State Of Mind (Part II) Broken Down\",\"status\":200,\"ts\":1541979748796,\"userAgent\":\"\\\"Mozilla\\/5.0 (X11; Linux x86_64) AppleWebKit\\/537.36 (KHTML, like Gecko) Ubuntu Chromium\\/36.0.1985.125 Chrome\\/36.0.1985.125 Safari\\/537.36\\\"\",\"userId\":\"26\"}\n"
     ]
    }
   ],
   "source": [
    "with open(log_files[0]) as file:\n",
    "    log_file = file.read()\n",
    "    print(log_file)"
   ]
  },
  {
   "cell_type": "code",
   "execution_count": 14,
   "metadata": {},
   "outputs": [],
   "source": [
    "log_list = []\n",
    "for log_dict in log_file.split('\\n'):\n",
    "    log_list.append(json.loads(log_dict))"
   ]
  },
  {
   "cell_type": "code",
   "execution_count": 15,
   "metadata": {},
   "outputs": [
    {
     "name": "stdout",
     "output_type": "stream",
     "text": [
      "95\n"
     ]
    },
    {
     "data": {
      "text/html": [
       "<div>\n",
       "<style scoped>\n",
       "    .dataframe tbody tr th:only-of-type {\n",
       "        vertical-align: middle;\n",
       "    }\n",
       "\n",
       "    .dataframe tbody tr th {\n",
       "        vertical-align: top;\n",
       "    }\n",
       "\n",
       "    .dataframe thead th {\n",
       "        text-align: right;\n",
       "    }\n",
       "</style>\n",
       "<table border=\"1\" class=\"dataframe\">\n",
       "  <thead>\n",
       "    <tr style=\"text-align: right;\">\n",
       "      <th></th>\n",
       "      <th>artist</th>\n",
       "      <th>auth</th>\n",
       "      <th>firstName</th>\n",
       "      <th>gender</th>\n",
       "      <th>itemInSession</th>\n",
       "      <th>lastName</th>\n",
       "      <th>length</th>\n",
       "      <th>level</th>\n",
       "      <th>location</th>\n",
       "      <th>method</th>\n",
       "      <th>page</th>\n",
       "      <th>registration</th>\n",
       "      <th>sessionId</th>\n",
       "      <th>song</th>\n",
       "      <th>status</th>\n",
       "      <th>ts</th>\n",
       "      <th>userAgent</th>\n",
       "      <th>userId</th>\n",
       "    </tr>\n",
       "  </thead>\n",
       "  <tbody>\n",
       "    <tr>\n",
       "      <td>0</td>\n",
       "      <td>Frumpies</td>\n",
       "      <td>Logged In</td>\n",
       "      <td>Anabelle</td>\n",
       "      <td>F</td>\n",
       "      <td>0</td>\n",
       "      <td>Simpson</td>\n",
       "      <td>134.47791</td>\n",
       "      <td>free</td>\n",
       "      <td>Philadelphia-Camden-Wilmington, PA-NJ-DE-MD</td>\n",
       "      <td>PUT</td>\n",
       "      <td>NextSong</td>\n",
       "      <td>1.541044e+12</td>\n",
       "      <td>455</td>\n",
       "      <td>Fuck Kitty</td>\n",
       "      <td>200</td>\n",
       "      <td>1541903636796</td>\n",
       "      <td>\"Mozilla/5.0 (Macintosh; Intel Mac OS X 10_9_4...</td>\n",
       "      <td>69</td>\n",
       "    </tr>\n",
       "    <tr>\n",
       "      <td>1</td>\n",
       "      <td>Kenny G with Peabo Bryson</td>\n",
       "      <td>Logged In</td>\n",
       "      <td>Anabelle</td>\n",
       "      <td>F</td>\n",
       "      <td>1</td>\n",
       "      <td>Simpson</td>\n",
       "      <td>264.75057</td>\n",
       "      <td>free</td>\n",
       "      <td>Philadelphia-Camden-Wilmington, PA-NJ-DE-MD</td>\n",
       "      <td>PUT</td>\n",
       "      <td>NextSong</td>\n",
       "      <td>1.541044e+12</td>\n",
       "      <td>455</td>\n",
       "      <td>By The Time This Night Is Over</td>\n",
       "      <td>200</td>\n",
       "      <td>1541903770796</td>\n",
       "      <td>\"Mozilla/5.0 (Macintosh; Intel Mac OS X 10_9_4...</td>\n",
       "      <td>69</td>\n",
       "    </tr>\n",
       "    <tr>\n",
       "      <td>2</td>\n",
       "      <td>Biffy Clyro</td>\n",
       "      <td>Logged In</td>\n",
       "      <td>Anabelle</td>\n",
       "      <td>F</td>\n",
       "      <td>2</td>\n",
       "      <td>Simpson</td>\n",
       "      <td>189.83138</td>\n",
       "      <td>free</td>\n",
       "      <td>Philadelphia-Camden-Wilmington, PA-NJ-DE-MD</td>\n",
       "      <td>PUT</td>\n",
       "      <td>NextSong</td>\n",
       "      <td>1.541044e+12</td>\n",
       "      <td>455</td>\n",
       "      <td>God &amp; Satan</td>\n",
       "      <td>200</td>\n",
       "      <td>1541904034796</td>\n",
       "      <td>\"Mozilla/5.0 (Macintosh; Intel Mac OS X 10_9_4...</td>\n",
       "      <td>69</td>\n",
       "    </tr>\n",
       "    <tr>\n",
       "      <td>3</td>\n",
       "      <td>None</td>\n",
       "      <td>Logged In</td>\n",
       "      <td>Lily</td>\n",
       "      <td>F</td>\n",
       "      <td>0</td>\n",
       "      <td>Burns</td>\n",
       "      <td>NaN</td>\n",
       "      <td>free</td>\n",
       "      <td>New York-Newark-Jersey City, NY-NJ-PA</td>\n",
       "      <td>GET</td>\n",
       "      <td>Home</td>\n",
       "      <td>1.540621e+12</td>\n",
       "      <td>456</td>\n",
       "      <td>None</td>\n",
       "      <td>200</td>\n",
       "      <td>1541910841796</td>\n",
       "      <td>\"Mozilla/5.0 (Windows NT 6.1; WOW64) AppleWebK...</td>\n",
       "      <td>32</td>\n",
       "    </tr>\n",
       "    <tr>\n",
       "      <td>4</td>\n",
       "      <td>HIM</td>\n",
       "      <td>Logged In</td>\n",
       "      <td>Lily</td>\n",
       "      <td>F</td>\n",
       "      <td>1</td>\n",
       "      <td>Burns</td>\n",
       "      <td>212.06159</td>\n",
       "      <td>free</td>\n",
       "      <td>New York-Newark-Jersey City, NY-NJ-PA</td>\n",
       "      <td>PUT</td>\n",
       "      <td>NextSong</td>\n",
       "      <td>1.540621e+12</td>\n",
       "      <td>456</td>\n",
       "      <td>Beautiful</td>\n",
       "      <td>200</td>\n",
       "      <td>1541910973796</td>\n",
       "      <td>\"Mozilla/5.0 (Windows NT 6.1; WOW64) AppleWebK...</td>\n",
       "      <td>32</td>\n",
       "    </tr>\n",
       "  </tbody>\n",
       "</table>\n",
       "</div>"
      ],
      "text/plain": [
       "                      artist       auth firstName gender  itemInSession  \\\n",
       "0                   Frumpies  Logged In  Anabelle      F              0   \n",
       "1  Kenny G with Peabo Bryson  Logged In  Anabelle      F              1   \n",
       "2                Biffy Clyro  Logged In  Anabelle      F              2   \n",
       "3                       None  Logged In      Lily      F              0   \n",
       "4                        HIM  Logged In      Lily      F              1   \n",
       "\n",
       "  lastName     length level                                     location  \\\n",
       "0  Simpson  134.47791  free  Philadelphia-Camden-Wilmington, PA-NJ-DE-MD   \n",
       "1  Simpson  264.75057  free  Philadelphia-Camden-Wilmington, PA-NJ-DE-MD   \n",
       "2  Simpson  189.83138  free  Philadelphia-Camden-Wilmington, PA-NJ-DE-MD   \n",
       "3    Burns        NaN  free        New York-Newark-Jersey City, NY-NJ-PA   \n",
       "4    Burns  212.06159  free        New York-Newark-Jersey City, NY-NJ-PA   \n",
       "\n",
       "  method      page  registration  sessionId                            song  \\\n",
       "0    PUT  NextSong  1.541044e+12        455                      Fuck Kitty   \n",
       "1    PUT  NextSong  1.541044e+12        455  By The Time This Night Is Over   \n",
       "2    PUT  NextSong  1.541044e+12        455                     God & Satan   \n",
       "3    GET      Home  1.540621e+12        456                            None   \n",
       "4    PUT  NextSong  1.540621e+12        456                       Beautiful   \n",
       "\n",
       "   status             ts                                          userAgent  \\\n",
       "0     200  1541903636796  \"Mozilla/5.0 (Macintosh; Intel Mac OS X 10_9_4...   \n",
       "1     200  1541903770796  \"Mozilla/5.0 (Macintosh; Intel Mac OS X 10_9_4...   \n",
       "2     200  1541904034796  \"Mozilla/5.0 (Macintosh; Intel Mac OS X 10_9_4...   \n",
       "3     200  1541910841796  \"Mozilla/5.0 (Windows NT 6.1; WOW64) AppleWebK...   \n",
       "4     200  1541910973796  \"Mozilla/5.0 (Windows NT 6.1; WOW64) AppleWebK...   \n",
       "\n",
       "  userId  \n",
       "0     69  \n",
       "1     69  \n",
       "2     69  \n",
       "3     32  \n",
       "4     32  "
      ]
     },
     "execution_count": 15,
     "metadata": {},
     "output_type": "execute_result"
    }
   ],
   "source": [
    "df = pd.DataFrame(log_list)\n",
    "print(df.shape[0])\n",
    "df.head()"
   ]
  },
  {
   "cell_type": "markdown",
   "metadata": {},
   "source": [
    "## #3: `time` Table\n",
    "#### Extract Data for Time Table\n",
    "- Filter records by `NextSong` action\n",
    "- Convert the `ts` timestamp column to datetime\n",
    "  - Hint: the current timestamp is in milliseconds\n",
    "- Extract the timestamp, hour, day, week of year, month, year, and weekday from the `ts` column and set `time_data` to a list containing these values in order\n",
    "  - Hint: use pandas' [`dt` attribute](https://pandas.pydata.org/pandas-docs/stable/reference/api/pandas.Series.dt.html) to access easily datetimelike properties.\n",
    "- Specify labels for these columns and set to `column_labels`\n",
    "- Create a dataframe, `time_df,` containing the time data for this file by combining `column_labels` and `time_data` into a dictionary and converting this into a dataframe"
   ]
  },
  {
   "cell_type": "code",
   "execution_count": 16,
   "metadata": {},
   "outputs": [
    {
     "name": "stdout",
     "output_type": "stream",
     "text": [
      "73\n"
     ]
    },
    {
     "data": {
      "text/html": [
       "<div>\n",
       "<style scoped>\n",
       "    .dataframe tbody tr th:only-of-type {\n",
       "        vertical-align: middle;\n",
       "    }\n",
       "\n",
       "    .dataframe tbody tr th {\n",
       "        vertical-align: top;\n",
       "    }\n",
       "\n",
       "    .dataframe thead th {\n",
       "        text-align: right;\n",
       "    }\n",
       "</style>\n",
       "<table border=\"1\" class=\"dataframe\">\n",
       "  <thead>\n",
       "    <tr style=\"text-align: right;\">\n",
       "      <th></th>\n",
       "      <th>ts</th>\n",
       "    </tr>\n",
       "  </thead>\n",
       "  <tbody>\n",
       "    <tr>\n",
       "      <td>0</td>\n",
       "      <td>1970-01-01 00:25:41.903636796</td>\n",
       "    </tr>\n",
       "    <tr>\n",
       "      <td>1</td>\n",
       "      <td>1970-01-01 00:25:41.903770796</td>\n",
       "    </tr>\n",
       "    <tr>\n",
       "      <td>2</td>\n",
       "      <td>1970-01-01 00:25:41.904034796</td>\n",
       "    </tr>\n",
       "    <tr>\n",
       "      <td>4</td>\n",
       "      <td>1970-01-01 00:25:41.910973796</td>\n",
       "    </tr>\n",
       "    <tr>\n",
       "      <td>5</td>\n",
       "      <td>1970-01-01 00:25:41.911006796</td>\n",
       "    </tr>\n",
       "  </tbody>\n",
       "</table>\n",
       "</div>"
      ],
      "text/plain": [
       "                             ts\n",
       "0 1970-01-01 00:25:41.903636796\n",
       "1 1970-01-01 00:25:41.903770796\n",
       "2 1970-01-01 00:25:41.904034796\n",
       "4 1970-01-01 00:25:41.910973796\n",
       "5 1970-01-01 00:25:41.911006796"
      ]
     },
     "execution_count": 16,
     "metadata": {},
     "output_type": "execute_result"
    }
   ],
   "source": [
    "df['ts'] = pd.to_datetime(df['ts'])\n",
    "time_df = df[df.page == 'NextSong'][['ts']]\n",
    "print(time_df.shape[0])\n",
    "time_df.head()"
   ]
  },
  {
   "cell_type": "code",
   "execution_count": 17,
   "metadata": {},
   "outputs": [],
   "source": [
    "pd.options.mode.chained_assignment = None\n",
    "\n",
    "time_df['hour'] = time_df.ts.dt.hour\n",
    "time_df['day'] = time_df.ts.dt.day\n",
    "time_df['week'] = time_df.ts.dt.week\n",
    "time_df['month'] = time_df.ts.dt.month\n",
    "time_df['year'] = time_df.ts.dt.year"
   ]
  },
  {
   "cell_type": "code",
   "execution_count": 18,
   "metadata": {},
   "outputs": [
    {
     "data": {
      "text/html": [
       "<div>\n",
       "<style scoped>\n",
       "    .dataframe tbody tr th:only-of-type {\n",
       "        vertical-align: middle;\n",
       "    }\n",
       "\n",
       "    .dataframe tbody tr th {\n",
       "        vertical-align: top;\n",
       "    }\n",
       "\n",
       "    .dataframe thead th {\n",
       "        text-align: right;\n",
       "    }\n",
       "</style>\n",
       "<table border=\"1\" class=\"dataframe\">\n",
       "  <thead>\n",
       "    <tr style=\"text-align: right;\">\n",
       "      <th></th>\n",
       "      <th>ts</th>\n",
       "      <th>hour</th>\n",
       "      <th>day</th>\n",
       "      <th>week</th>\n",
       "      <th>month</th>\n",
       "      <th>year</th>\n",
       "    </tr>\n",
       "  </thead>\n",
       "  <tbody>\n",
       "    <tr>\n",
       "      <td>0</td>\n",
       "      <td>1970-01-01 00:25:41.903636796</td>\n",
       "      <td>0</td>\n",
       "      <td>1</td>\n",
       "      <td>1</td>\n",
       "      <td>1</td>\n",
       "      <td>1970</td>\n",
       "    </tr>\n",
       "    <tr>\n",
       "      <td>1</td>\n",
       "      <td>1970-01-01 00:25:41.903770796</td>\n",
       "      <td>0</td>\n",
       "      <td>1</td>\n",
       "      <td>1</td>\n",
       "      <td>1</td>\n",
       "      <td>1970</td>\n",
       "    </tr>\n",
       "    <tr>\n",
       "      <td>2</td>\n",
       "      <td>1970-01-01 00:25:41.904034796</td>\n",
       "      <td>0</td>\n",
       "      <td>1</td>\n",
       "      <td>1</td>\n",
       "      <td>1</td>\n",
       "      <td>1970</td>\n",
       "    </tr>\n",
       "    <tr>\n",
       "      <td>4</td>\n",
       "      <td>1970-01-01 00:25:41.910973796</td>\n",
       "      <td>0</td>\n",
       "      <td>1</td>\n",
       "      <td>1</td>\n",
       "      <td>1</td>\n",
       "      <td>1970</td>\n",
       "    </tr>\n",
       "    <tr>\n",
       "      <td>5</td>\n",
       "      <td>1970-01-01 00:25:41.911006796</td>\n",
       "      <td>0</td>\n",
       "      <td>1</td>\n",
       "      <td>1</td>\n",
       "      <td>1</td>\n",
       "      <td>1970</td>\n",
       "    </tr>\n",
       "  </tbody>\n",
       "</table>\n",
       "</div>"
      ],
      "text/plain": [
       "                             ts  hour  day  week  month  year\n",
       "0 1970-01-01 00:25:41.903636796     0    1     1      1  1970\n",
       "1 1970-01-01 00:25:41.903770796     0    1     1      1  1970\n",
       "2 1970-01-01 00:25:41.904034796     0    1     1      1  1970\n",
       "4 1970-01-01 00:25:41.910973796     0    1     1      1  1970\n",
       "5 1970-01-01 00:25:41.911006796     0    1     1      1  1970"
      ]
     },
     "execution_count": 18,
     "metadata": {},
     "output_type": "execute_result"
    }
   ],
   "source": [
    "time_df.head()"
   ]
  },
  {
   "cell_type": "markdown",
   "metadata": {},
   "source": [
    "#### Insert Records into Time Table\n",
    "Implement the `time_table_insert` query in `sql_queries.py` and run the cell below to insert records for the timestamps in this log file into the `time` table. Remember to run `create_tables.py` before running the cell below to ensure you've created/resetted the `time` table in the sparkify database."
   ]
  },
  {
   "cell_type": "code",
   "execution_count": 19,
   "metadata": {},
   "outputs": [],
   "source": [
    "for i, row in time_df.iterrows():\n",
    "    cur.execute(time_table_insert, list(row))"
   ]
  },
  {
   "cell_type": "markdown",
   "metadata": {},
   "source": [
    "Run `test.ipynb` to see if you've successfully added records to this table."
   ]
  },
  {
   "cell_type": "markdown",
   "metadata": {},
   "source": [
    "## #4: `users` Table\n",
    "#### Extract Data for Users Table\n",
    "- Select columns for user ID, first name, last name, gender and level and set to `user_df`"
   ]
  },
  {
   "cell_type": "code",
   "execution_count": 20,
   "metadata": {},
   "outputs": [
    {
     "data": {
      "text/html": [
       "<div>\n",
       "<style scoped>\n",
       "    .dataframe tbody tr th:only-of-type {\n",
       "        vertical-align: middle;\n",
       "    }\n",
       "\n",
       "    .dataframe tbody tr th {\n",
       "        vertical-align: top;\n",
       "    }\n",
       "\n",
       "    .dataframe thead th {\n",
       "        text-align: right;\n",
       "    }\n",
       "</style>\n",
       "<table border=\"1\" class=\"dataframe\">\n",
       "  <thead>\n",
       "    <tr style=\"text-align: right;\">\n",
       "      <th></th>\n",
       "      <th>userId</th>\n",
       "      <th>firstName</th>\n",
       "      <th>lastName</th>\n",
       "      <th>gender</th>\n",
       "      <th>level</th>\n",
       "    </tr>\n",
       "  </thead>\n",
       "  <tbody>\n",
       "    <tr>\n",
       "      <td>0</td>\n",
       "      <td>69</td>\n",
       "      <td>Anabelle</td>\n",
       "      <td>Simpson</td>\n",
       "      <td>F</td>\n",
       "      <td>free</td>\n",
       "    </tr>\n",
       "    <tr>\n",
       "      <td>1</td>\n",
       "      <td>69</td>\n",
       "      <td>Anabelle</td>\n",
       "      <td>Simpson</td>\n",
       "      <td>F</td>\n",
       "      <td>free</td>\n",
       "    </tr>\n",
       "    <tr>\n",
       "      <td>2</td>\n",
       "      <td>69</td>\n",
       "      <td>Anabelle</td>\n",
       "      <td>Simpson</td>\n",
       "      <td>F</td>\n",
       "      <td>free</td>\n",
       "    </tr>\n",
       "    <tr>\n",
       "      <td>3</td>\n",
       "      <td>32</td>\n",
       "      <td>Lily</td>\n",
       "      <td>Burns</td>\n",
       "      <td>F</td>\n",
       "      <td>free</td>\n",
       "    </tr>\n",
       "    <tr>\n",
       "      <td>4</td>\n",
       "      <td>32</td>\n",
       "      <td>Lily</td>\n",
       "      <td>Burns</td>\n",
       "      <td>F</td>\n",
       "      <td>free</td>\n",
       "    </tr>\n",
       "  </tbody>\n",
       "</table>\n",
       "</div>"
      ],
      "text/plain": [
       "  userId firstName lastName gender level\n",
       "0     69  Anabelle  Simpson      F  free\n",
       "1     69  Anabelle  Simpson      F  free\n",
       "2     69  Anabelle  Simpson      F  free\n",
       "3     32      Lily    Burns      F  free\n",
       "4     32      Lily    Burns      F  free"
      ]
     },
     "execution_count": 20,
     "metadata": {},
     "output_type": "execute_result"
    }
   ],
   "source": [
    "user_df = df[['userId', 'firstName', 'lastName', 'gender', 'level']]\n",
    "user_df.head()"
   ]
  },
  {
   "cell_type": "markdown",
   "metadata": {},
   "source": [
    "#### Insert Records into Users Table\n",
    "Implement the `user_table_insert` query in `sql_queries.py` and run the cell below to insert records for the users in this log file into the `users` table. Remember to run `create_tables.py` before running the cell below to ensure you've created/resetted the `users` table in the sparkify database."
   ]
  },
  {
   "cell_type": "code",
   "execution_count": 24,
   "metadata": {},
   "outputs": [],
   "source": [
    "for i, row in user_df.iterrows():\n",
    "    try:\n",
    "        cur.execute(user_table_insert, list(row))\n",
    "    except:\n",
    "        pass"
   ]
  },
  {
   "cell_type": "markdown",
   "metadata": {},
   "source": [
    "Run `test.ipynb` to see if you've successfully added records to this table."
   ]
  },
  {
   "cell_type": "markdown",
   "metadata": {},
   "source": [
    "## #5: `songplays` Table\n",
    "#### Extract Data and Songplays Table\n",
    "This one is a little more complicated since information from the songs table, artists table, and original log file are all needed for the `songplays` table. Since the log file does not specify an ID for either the song or the artist, you'll need to get the song ID and artist ID by querying the songs and artists tables to find matches based on song title, artist name, and song duration time.\n",
    "- Implement the `song_select` query in `sql_queries.py` to find the song ID and artist ID based on the title, artist name, and duration of a song.\n",
    "- Select the timestamp, user ID, level, song ID, artist ID, session ID, location, and user agent and set to `songplay_data`\n",
    "\n",
    "#### Insert Records into Songplays Table\n",
    "- Implement the `songplay_table_insert` query and run the cell below to insert records for the songplay actions in this log file into the `songplays` table. Remember to run `create_tables.py` before running the cell below to ensure you've created/resetted the `songplays` table in the sparkify database."
   ]
  },
  {
   "cell_type": "code",
   "execution_count": null,
   "metadata": {},
   "outputs": [],
   "source": [
    "for index, row in df.iterrows():\n",
    "\n",
    "    # get songid and artistid from song and artist tables\n",
    "    cur.execute(song_select, (row.song, row.artist, row.length))\n",
    "    results = cur.fetchone()\n",
    "    \n",
    "    if results:\n",
    "        songid, artistid = results\n",
    "    else:\n",
    "        songid, artistid = None, None\n",
    "\n",
    "    # insert songplay record\n",
    "    songplay_data = ()\n",
    "    cur.execute(songplay_table_insert, songplay_data)\n",
    "    conn.commit()"
   ]
  },
  {
   "cell_type": "markdown",
   "metadata": {},
   "source": [
    "Run `test.ipynb` to see if you've successfully added records to this table."
   ]
  },
  {
   "cell_type": "markdown",
   "metadata": {},
   "source": [
    "# Close Connection to Sparkify Database"
   ]
  },
  {
   "cell_type": "code",
   "execution_count": 22,
   "metadata": {},
   "outputs": [],
   "source": [
    "conn.close()"
   ]
  },
  {
   "cell_type": "markdown",
   "metadata": {},
   "source": [
    "# Implement `etl.py`\n",
    "Use what you've completed in this notebook to implement `etl.py`."
   ]
  }
 ],
 "metadata": {
  "kernel_info": {
   "name": "python3"
  },
  "kernelspec": {
   "display_name": "Python 3",
   "language": "python",
   "name": "python3"
  },
  "language_info": {
   "codemirror_mode": {
    "name": "ipython",
    "version": 3
   },
   "file_extension": ".py",
   "mimetype": "text/x-python",
   "name": "python",
   "nbconvert_exporter": "python",
   "pygments_lexer": "ipython3",
   "version": "3.7.4"
  },
  "nteract": {
   "version": "0.15.0"
  }
 },
 "nbformat": 4,
 "nbformat_minor": 2
}
