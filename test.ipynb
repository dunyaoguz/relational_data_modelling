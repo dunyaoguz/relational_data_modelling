{
 "cells": [
  {
   "cell_type": "code",
   "execution_count": 99,
   "metadata": {},
   "outputs": [],
   "source": [
    "import psycopg2\n",
    "\n",
    "conn = psycopg2.connect(\"host=127.0.0.1 dbname=sparkifydb user=dunya\")\n",
    "cur = conn.cursor()\n",
    "conn.set_session(autocommit=True)"
   ]
  },
  {
   "cell_type": "code",
   "execution_count": 100,
   "metadata": {},
   "outputs": [],
   "source": [
    "def fetch_results(cur):\n",
    "    row = cur.fetchone()\n",
    "    while row:\n",
    "        print(row)\n",
    "        row = cur.fetchone()"
   ]
  },
  {
   "cell_type": "code",
   "execution_count": 109,
   "metadata": {},
   "outputs": [],
   "source": [
    "# additional tests\n",
    "\n",
    "# cur.execute(\"INSERT INTO users (user_id, first_name, last_name, gender, level) \\\n",
    "#              VALUES (%s, %s, %s, %s, %s)\",\n",
    "#              (1, 'test', 'test', 'F', 1))\n",
    "\n",
    "# cur.execute(\"INSERT INTO users (user_id, first_name, last_name, gender, level) \\\n",
    "#              VALUES (%s, %s, %s, %s, %s)\",\n",
    "#              (2, 'test', 'test', 'F', 2))"
   ]
  },
  {
   "cell_type": "code",
   "execution_count": 116,
   "metadata": {},
   "outputs": [],
   "source": [
    "# cur.execute(\"DELETE FROM users\")\n",
    "# cur.execute(\"DELETE FROM songs\")\n",
    "# cur.execute(\"DELETE FROM artists\")\n",
    "# cur.execute(\"DELETE FROM time\")"
   ]
  },
  {
   "cell_type": "code",
   "execution_count": 110,
   "metadata": {},
   "outputs": [],
   "source": [
    "cur.execute(\"SELECT * FROM users LIMIT 5;\")\n",
    "\n",
    "fetch_results(cur)"
   ]
  },
  {
   "cell_type": "code",
   "execution_count": 111,
   "metadata": {},
   "outputs": [],
   "source": [
    "cur.execute(\"SELECT * FROM songplays LIMIT 5;\")\n",
    "\n",
    "fetch_results(cur)"
   ]
  },
  {
   "cell_type": "code",
   "execution_count": 112,
   "metadata": {},
   "outputs": [],
   "source": [
    "cur.execute(\"SELECT * FROM songs LIMIT 5;\")\n",
    "\n",
    "fetch_results(cur)"
   ]
  },
  {
   "cell_type": "code",
   "execution_count": 113,
   "metadata": {},
   "outputs": [],
   "source": [
    "cur.execute(\"SELECT * FROM artists LIMIT 5;\")\n",
    "\n",
    "fetch_results(cur)"
   ]
  },
  {
   "cell_type": "code",
   "execution_count": 114,
   "metadata": {},
   "outputs": [],
   "source": [
    "cur.execute(\"SELECT * FROM time LIMIT 5;\")\n",
    "\n",
    "fetch_results(cur)"
   ]
  },
  {
   "cell_type": "code",
   "execution_count": 115,
   "metadata": {},
   "outputs": [],
   "source": [
    "conn.close()"
   ]
  }
 ],
 "metadata": {
  "kernel_info": {
   "name": "python3"
  },
  "kernelspec": {
   "display_name": "Python 3",
   "language": "python",
   "name": "python3"
  },
  "language_info": {
   "codemirror_mode": {
    "name": "ipython",
    "version": 3
   },
   "file_extension": ".py",
   "mimetype": "text/x-python",
   "name": "python",
   "nbconvert_exporter": "python",
   "pygments_lexer": "ipython3",
   "version": "3.7.4"
  },
  "nteract": {
   "version": "0.15.0"
  }
 },
 "nbformat": 4,
 "nbformat_minor": 2
}
