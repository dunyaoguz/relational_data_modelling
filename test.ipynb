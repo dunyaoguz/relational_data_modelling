{
 "cells": [
  {
   "cell_type": "code",
   "execution_count": 11,
   "metadata": {},
   "outputs": [],
   "source": [
    "import psycopg2\n",
    "\n",
    "conn = psycopg2.connect(\"host=127.0.0.1 dbname=sparkifydb user=dunya\")\n",
    "cur = conn.cursor()\n",
    "conn.set_session(autocommit=True)"
   ]
  },
  {
   "cell_type": "code",
   "execution_count": 12,
   "metadata": {},
   "outputs": [],
   "source": [
    "def fetch_results(cur):\n",
    "    row = cur.fetchone()\n",
    "    while row:\n",
    "        print(row)\n",
    "        row = cur.fetchone()"
   ]
  },
  {
   "cell_type": "code",
   "execution_count": 13,
   "metadata": {},
   "outputs": [],
   "source": [
    "# additional tests\n",
    "\n",
    "# cur.execute(\"INSERT INTO users (user_id, first_name, last_name, gender, level) \\\n",
    "#              VALUES (%s, %s, %s, %s, %s)\",\n",
    "#              (1, 'test', 'test', 'F', 1))\n",
    "\n",
    "# cur.execute(\"INSERT INTO users (user_id, first_name, last_name, gender, level) \\\n",
    "#              VALUES (%s, %s, %s, %s, %s)\",\n",
    "#              (2, 'test', 'test', 'F', 2))"
   ]
  },
  {
   "cell_type": "code",
   "execution_count": 18,
   "metadata": {},
   "outputs": [
    {
     "name": "stdout",
     "output_type": "stream",
     "text": [
      "(69, 'Anabelle', 'Simpson', 'F', 'free')\n",
      "(32, 'Lily', 'Burns', 'F', 'free')\n",
      "(75, 'Joseph', 'Gutierrez', 'M', 'free')\n",
      "(92, 'Ryann', 'Smith', 'F', 'free')\n",
      "(49, 'Chloe', 'Cuevas', 'F', 'free')\n"
     ]
    }
   ],
   "source": [
    "cur.execute(\"SELECT * FROM users LIMIT 5;\")\n",
    "\n",
    "fetch_results(cur)"
   ]
  },
  {
   "cell_type": "code",
   "execution_count": 17,
   "metadata": {},
   "outputs": [
    {
     "name": "stdout",
     "output_type": "stream",
     "text": [
      "(7113, datetime.datetime(1970, 1, 1, 0, 25, 41, 903637), 69, 'free', None, None, 455, 'Philadelphia-Camden-Wilmington, PA-NJ-DE-MD', '\"Mozilla/5.0 (Macintosh; Intel Mac OS X 10_9_4) AppleWebKit/537.36 (KHTML, like Gecko) Chrome/36.0.1985.125 Safari/537.36\"')\n",
      "(7114, datetime.datetime(1970, 1, 1, 0, 25, 41, 903771), 69, 'free', None, None, 455, 'Philadelphia-Camden-Wilmington, PA-NJ-DE-MD', '\"Mozilla/5.0 (Macintosh; Intel Mac OS X 10_9_4) AppleWebKit/537.36 (KHTML, like Gecko) Chrome/36.0.1985.125 Safari/537.36\"')\n",
      "(7115, datetime.datetime(1970, 1, 1, 0, 25, 41, 904035), 69, 'free', None, None, 455, 'Philadelphia-Camden-Wilmington, PA-NJ-DE-MD', '\"Mozilla/5.0 (Macintosh; Intel Mac OS X 10_9_4) AppleWebKit/537.36 (KHTML, like Gecko) Chrome/36.0.1985.125 Safari/537.36\"')\n",
      "(7116, datetime.datetime(1970, 1, 1, 0, 25, 41, 910974), 32, 'free', None, None, 456, 'New York-Newark-Jersey City, NY-NJ-PA', '\"Mozilla/5.0 (Windows NT 6.1; WOW64) AppleWebKit/537.36 (KHTML, like Gecko) Chrome/36.0.1985.125 Safari/537.36\"')\n",
      "(7117, datetime.datetime(1970, 1, 1, 0, 25, 41, 911007), 75, 'free', None, None, 284, 'Columbia, SC', '\"Mozilla/5.0 (Macintosh; Intel Mac OS X 10_9_3) AppleWebKit/537.75.14 (KHTML, like Gecko) Version/7.0.3 Safari/537.75.14\"')\n"
     ]
    }
   ],
   "source": [
    "cur.execute(\"SELECT * FROM songplays LIMIT 5;\")\n",
    "\n",
    "fetch_results(cur)"
   ]
  },
  {
   "cell_type": "code",
   "execution_count": 6,
   "metadata": {},
   "outputs": [
    {
     "name": "stdout",
     "output_type": "stream",
     "text": [
      "('SONHOTT12A8C13493C', 'Something Girls', 'AR7G5I41187FB4CE6C', 1982, 233)\n",
      "('SOIAZJW12AB01853F1', 'Pink World', 'AR8ZCNI1187B9A069B', 1984, 270)\n",
      "('SOFSOCN12A8C143F5D', 'Face the Ashes', 'ARXR32B1187FB57099', 2007, 210)\n",
      "('SOHKNRJ12A6701D1F8', 'Drop of Rain', 'AR10USD1187B99F3F1', 0, 190)\n",
      "('SOQHXMF12AB0182363', 'Young Boy Blues', 'ARGSJW91187B9B1D6B', 0, 219)\n"
     ]
    }
   ],
   "source": [
    "cur.execute(\"SELECT * FROM songs LIMIT 5;\")\n",
    "\n",
    "fetch_results(cur)"
   ]
  },
  {
   "cell_type": "code",
   "execution_count": 7,
   "metadata": {},
   "outputs": [
    {
     "name": "stdout",
     "output_type": "stream",
     "text": [
      "('AR7G5I41187FB4CE6C', 'Adam Ant', 'London, England', None, None)\n",
      "('AR8ZCNI1187B9A069B', 'Planet P Project', '', None, None)\n",
      "('ARXR32B1187FB57099', 'Gob', '', None, None)\n",
      "('AR10USD1187B99F3F1', 'Tweeterfriendly Music', 'Burlington, Ontario, Canada', None, None)\n",
      "('ARGSJW91187B9B1D6B', 'JennyAnyKind', 'North Carolina', 35, -80)\n"
     ]
    }
   ],
   "source": [
    "cur.execute(\"SELECT * FROM artists LIMIT 5;\")\n",
    "\n",
    "fetch_results(cur)"
   ]
  },
  {
   "cell_type": "code",
   "execution_count": 8,
   "metadata": {},
   "outputs": [
    {
     "name": "stdout",
     "output_type": "stream",
     "text": [
      "(datetime.datetime(1970, 1, 1, 0, 25, 41, 903637), 0, 1, 1, 1, 1970)\n",
      "(datetime.datetime(1970, 1, 1, 0, 25, 41, 903771), 0, 1, 1, 1, 1970)\n",
      "(datetime.datetime(1970, 1, 1, 0, 25, 41, 904035), 0, 1, 1, 1, 1970)\n",
      "(datetime.datetime(1970, 1, 1, 0, 25, 41, 910974), 0, 1, 1, 1, 1970)\n",
      "(datetime.datetime(1970, 1, 1, 0, 25, 41, 911007), 0, 1, 1, 1, 1970)\n"
     ]
    }
   ],
   "source": [
    "cur.execute(\"SELECT * FROM time LIMIT 5;\")\n",
    "\n",
    "fetch_results(cur)"
   ]
  },
  {
   "cell_type": "code",
   "execution_count": 9,
   "metadata": {},
   "outputs": [],
   "source": [
    "cur.execute(\"DELETE FROM users\")\n",
    "cur.execute(\"DELETE FROM songs\")\n",
    "cur.execute(\"DELETE FROM artists\")\n",
    "cur.execute(\"DELETE FROM time\")\n",
    "cur.execute(\"DELETE FROM songplays\")"
   ]
  },
  {
   "cell_type": "code",
   "execution_count": 10,
   "metadata": {},
   "outputs": [],
   "source": [
    "conn.close()"
   ]
  }
 ],
 "metadata": {
  "kernel_info": {
   "name": "python3"
  },
  "kernelspec": {
   "display_name": "Python 3",
   "language": "python",
   "name": "python3"
  },
  "language_info": {
   "codemirror_mode": {
    "name": "ipython",
    "version": 3
   },
   "file_extension": ".py",
   "mimetype": "text/x-python",
   "name": "python",
   "nbconvert_exporter": "python",
   "pygments_lexer": "ipython3",
   "version": "3.7.4"
  },
  "nteract": {
   "version": "0.15.0"
  }
 },
 "nbformat": 4,
 "nbformat_minor": 2
}
